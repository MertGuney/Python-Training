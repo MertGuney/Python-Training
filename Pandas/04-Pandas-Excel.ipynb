{
 "cells": [
  {
   "cell_type": "code",
   "execution_count": 1,
   "id": "cbf0c4e6-48b6-4cf3-9ad5-23bde5a739c9",
   "metadata": {},
   "outputs": [],
   "source": [
    "import pandas as pd\n",
    "import numpy as np"
   ]
  },
  {
   "cell_type": "code",
   "execution_count": 3,
   "id": "f20d2e6e-ee1d-484a-b92e-ee6fe5d6050d",
   "metadata": {},
   "outputs": [],
   "source": [
    "dataFrame = pd.read_excel(\"salary.xlsx\")"
   ]
  },
  {
   "cell_type": "code",
   "execution_count": 4,
   "id": "fade4c53-5669-4256-8ea4-163365116dab",
   "metadata": {},
   "outputs": [
    {
     "data": {
      "text/html": [
       "<div>\n",
       "<style scoped>\n",
       "    .dataframe tbody tr th:only-of-type {\n",
       "        vertical-align: middle;\n",
       "    }\n",
       "\n",
       "    .dataframe tbody tr th {\n",
       "        vertical-align: top;\n",
       "    }\n",
       "\n",
       "    .dataframe thead th {\n",
       "        text-align: right;\n",
       "    }\n",
       "</style>\n",
       "<table border=\"1\" class=\"dataframe\">\n",
       "  <thead>\n",
       "    <tr style=\"text-align: right;\">\n",
       "      <th></th>\n",
       "      <th>Unnamed: 0</th>\n",
       "      <th>Salary</th>\n",
       "      <th>Age</th>\n",
       "      <th>Department</th>\n",
       "    </tr>\n",
       "  </thead>\n",
       "  <tbody>\n",
       "    <tr>\n",
       "      <th>0</th>\n",
       "      <td>Alan</td>\n",
       "      <td>100</td>\n",
       "      <td>24.0</td>\n",
       "      <td>Software</td>\n",
       "    </tr>\n",
       "    <tr>\n",
       "      <th>1</th>\n",
       "      <td>Amber</td>\n",
       "      <td>120</td>\n",
       "      <td>52.0</td>\n",
       "      <td>Sale</td>\n",
       "    </tr>\n",
       "    <tr>\n",
       "      <th>2</th>\n",
       "      <td>Johnny</td>\n",
       "      <td>100</td>\n",
       "      <td>23.0</td>\n",
       "      <td>NaN</td>\n",
       "    </tr>\n",
       "    <tr>\n",
       "      <th>3</th>\n",
       "      <td>Jayce</td>\n",
       "      <td>200</td>\n",
       "      <td>NaN</td>\n",
       "      <td>HR</td>\n",
       "    </tr>\n",
       "    <tr>\n",
       "      <th>4</th>\n",
       "      <td>Kris</td>\n",
       "      <td>240</td>\n",
       "      <td>23.0</td>\n",
       "      <td>Finance</td>\n",
       "    </tr>\n",
       "    <tr>\n",
       "      <th>5</th>\n",
       "      <td>Kayle</td>\n",
       "      <td>190</td>\n",
       "      <td>54.0</td>\n",
       "      <td>Law</td>\n",
       "    </tr>\n",
       "  </tbody>\n",
       "</table>\n",
       "</div>"
      ],
      "text/plain": [
       "  Unnamed: 0  Salary   Age Department\n",
       "0       Alan     100  24.0   Software\n",
       "1      Amber     120  52.0       Sale\n",
       "2     Johnny     100  23.0        NaN\n",
       "3      Jayce     200   NaN         HR\n",
       "4       Kris     240  23.0    Finance\n",
       "5      Kayle     190  54.0        Law"
      ]
     },
     "execution_count": 4,
     "metadata": {},
     "output_type": "execute_result"
    }
   ],
   "source": [
    "dataFrame"
   ]
  },
  {
   "cell_type": "code",
   "execution_count": 13,
   "id": "e379b753-4f26-4271-b097-15def9de34a1",
   "metadata": {},
   "outputs": [],
   "source": [
    "newDataFrame = dataFrame.dropna()"
   ]
  },
  {
   "cell_type": "code",
   "execution_count": 14,
   "id": "05f7f9d4-6b5f-43e2-a3a5-3c4ffd63aefd",
   "metadata": {},
   "outputs": [],
   "source": [
    "newDataFrame.to_excel(\"NewSalary.xlsx\")"
   ]
  },
  {
   "cell_type": "code",
   "execution_count": 15,
   "id": "431bd94b-bb80-458e-a9fc-c7c8f7f08660",
   "metadata": {},
   "outputs": [],
   "source": [
    "## CSV\n",
    "## read_csv\n",
    "## to_csv"
   ]
  },
  {
   "cell_type": "code",
   "execution_count": null,
   "id": "823cbd22-f8dc-4e10-b72c-281959cda80d",
   "metadata": {},
   "outputs": [],
   "source": []
  }
 ],
 "metadata": {
  "kernelspec": {
   "display_name": "Python 3 (ipykernel)",
   "language": "python",
   "name": "python3"
  },
  "language_info": {
   "codemirror_mode": {
    "name": "ipython",
    "version": 3
   },
   "file_extension": ".py",
   "mimetype": "text/x-python",
   "name": "python",
   "nbconvert_exporter": "python",
   "pygments_lexer": "ipython3",
   "version": "3.11.7"
  }
 },
 "nbformat": 4,
 "nbformat_minor": 5
}
