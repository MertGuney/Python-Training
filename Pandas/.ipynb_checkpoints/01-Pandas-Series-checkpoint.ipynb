{
 "cells": [
  {
   "cell_type": "code",
   "execution_count": 1,
   "id": "8dce8628-94b4-4b65-a33f-e9961354181f",
   "metadata": {},
   "outputs": [],
   "source": [
    "import numpy as np\n",
    "import pandas as pd"
   ]
  },
  {
   "cell_type": "markdown",
   "id": "730e6290-1000-4e10-b9b2-58fda5e93577",
   "metadata": {},
   "source": [
    "## Series"
   ]
  },
  {
   "cell_type": "code",
   "execution_count": 2,
   "id": "6ae09ee6-d43a-4ff2-b89c-108378808967",
   "metadata": {},
   "outputs": [],
   "source": [
    "myDictionary = {\"Mert\": 50, \"Elif\":25, \"Melek\":10}"
   ]
  },
  {
   "cell_type": "code",
   "execution_count": 6,
   "id": "9552e8e7-d4fe-4b6e-9cc1-9cfbb33cfbcd",
   "metadata": {},
   "outputs": [
    {
     "data": {
      "text/plain": [
       "Mert     50\n",
       "Elif     25\n",
       "Melek    10\n",
       "dtype: int64"
      ]
     },
     "execution_count": 6,
     "metadata": {},
     "output_type": "execute_result"
    }
   ],
   "source": [
    "pd.Series(myDictionary)"
   ]
  },
  {
   "cell_type": "code",
   "execution_count": 10,
   "id": "4953e204-b6df-4cfa-b3e9-a9bd8873aff1",
   "metadata": {},
   "outputs": [],
   "source": [
    "ages = [50,40,30]\n",
    "names = [\"Mert\", \"Elif\", \"Melek\"]"
   ]
  },
  {
   "cell_type": "code",
   "execution_count": 11,
   "id": "8d599ef7-5616-40a2-9158-5d382249c250",
   "metadata": {},
   "outputs": [
    {
     "data": {
      "text/plain": [
       "Mert     50\n",
       "Elif     40\n",
       "Melek    30\n",
       "dtype: int64"
      ]
     },
     "execution_count": 11,
     "metadata": {},
     "output_type": "execute_result"
    }
   ],
   "source": [
    "pd.Series(ages,names)"
   ]
  },
  {
   "cell_type": "code",
   "execution_count": 12,
   "id": "b32d6c4a-a24b-4608-b9e3-2e5da91f1656",
   "metadata": {},
   "outputs": [
    {
     "data": {
      "text/plain": [
       "Mert     50\n",
       "Elif     40\n",
       "Melek    30\n",
       "dtype: int64"
      ]
     },
     "execution_count": 12,
     "metadata": {},
     "output_type": "execute_result"
    }
   ],
   "source": [
    "pd.Series(data=ages,index=names)"
   ]
  },
  {
   "cell_type": "code",
   "execution_count": null,
   "id": "4833247b-df86-4078-ba92-5a295abd9a27",
   "metadata": {},
   "outputs": [],
   "source": []
  }
 ],
 "metadata": {
  "kernelspec": {
   "display_name": "Python 3 (ipykernel)",
   "language": "python",
   "name": "python3"
  },
  "language_info": {
   "codemirror_mode": {
    "name": "ipython",
    "version": 3
   },
   "file_extension": ".py",
   "mimetype": "text/x-python",
   "name": "python",
   "nbconvert_exporter": "python",
   "pygments_lexer": "ipython3",
   "version": "3.11.7"
  }
 },
 "nbformat": 4,
 "nbformat_minor": 5
}
