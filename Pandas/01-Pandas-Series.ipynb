{
 "cells": [
  {
   "cell_type": "code",
   "execution_count": 1,
   "id": "8dce8628-94b4-4b65-a33f-e9961354181f",
   "metadata": {},
   "outputs": [],
   "source": [
    "import numpy as np\n",
    "import pandas as pd"
   ]
  },
  {
   "cell_type": "markdown",
   "id": "730e6290-1000-4e10-b9b2-58fda5e93577",
   "metadata": {},
   "source": [
    "## Series"
   ]
  },
  {
   "cell_type": "code",
   "execution_count": 2,
   "id": "6ae09ee6-d43a-4ff2-b89c-108378808967",
   "metadata": {},
   "outputs": [],
   "source": [
    "myDictionary = {\"Mert\": 50, \"Elif\":25, \"Melek\":10}"
   ]
  },
  {
   "cell_type": "code",
   "execution_count": 6,
   "id": "9552e8e7-d4fe-4b6e-9cc1-9cfbb33cfbcd",
   "metadata": {},
   "outputs": [
    {
     "data": {
      "text/plain": [
       "Mert     50\n",
       "Elif     25\n",
       "Melek    10\n",
       "dtype: int64"
      ]
     },
     "execution_count": 6,
     "metadata": {},
     "output_type": "execute_result"
    }
   ],
   "source": [
    "pd.Series(myDictionary)"
   ]
  },
  {
   "cell_type": "code",
   "execution_count": 10,
   "id": "4953e204-b6df-4cfa-b3e9-a9bd8873aff1",
   "metadata": {},
   "outputs": [],
   "source": [
    "ages = [50,40,30]\n",
    "names = [\"Mert\", \"Elif\", \"Melek\"]"
   ]
  },
  {
   "cell_type": "code",
   "execution_count": 11,
   "id": "8d599ef7-5616-40a2-9158-5d382249c250",
   "metadata": {},
   "outputs": [
    {
     "data": {
      "text/plain": [
       "Mert     50\n",
       "Elif     40\n",
       "Melek    30\n",
       "dtype: int64"
      ]
     },
     "execution_count": 11,
     "metadata": {},
     "output_type": "execute_result"
    }
   ],
   "source": [
    "pd.Series(ages,names)"
   ]
  },
  {
   "cell_type": "code",
   "execution_count": 12,
   "id": "b32d6c4a-a24b-4608-b9e3-2e5da91f1656",
   "metadata": {},
   "outputs": [
    {
     "data": {
      "text/plain": [
       "Mert     50\n",
       "Elif     40\n",
       "Melek    30\n",
       "dtype: int64"
      ]
     },
     "execution_count": 12,
     "metadata": {},
     "output_type": "execute_result"
    }
   ],
   "source": [
    "pd.Series(data=ages,index=names)"
   ]
  },
  {
   "cell_type": "code",
   "execution_count": 13,
   "id": "4833247b-df86-4078-ba92-5a295abd9a27",
   "metadata": {},
   "outputs": [],
   "source": [
    "numpyArray = np.array([50,40,30])"
   ]
  },
  {
   "cell_type": "code",
   "execution_count": 14,
   "id": "27e6705d-3c7d-430a-8ce1-1d4b1e856e42",
   "metadata": {},
   "outputs": [
    {
     "data": {
      "text/plain": [
       "Mert     50\n",
       "Elif     40\n",
       "Melek    30\n",
       "dtype: int32"
      ]
     },
     "execution_count": 14,
     "metadata": {},
     "output_type": "execute_result"
    }
   ],
   "source": [
    "pd.Series(numpyArray, names)"
   ]
  },
  {
   "cell_type": "code",
   "execution_count": 15,
   "id": "4eee0752-a6e7-471e-99d2-b1d5cc546474",
   "metadata": {},
   "outputs": [
    {
     "data": {
      "text/plain": [
       "1    A\n",
       "2    B\n",
       "3    C\n",
       "4    D\n",
       "dtype: object"
      ]
     },
     "execution_count": 15,
     "metadata": {},
     "output_type": "execute_result"
    }
   ],
   "source": [
    "pd.Series([\"A\",\"B\",\"C\",\"D\"],[1,2,3,4])"
   ]
  },
  {
   "cell_type": "code",
   "execution_count": 18,
   "id": "e92a6ddc-e4f0-4c74-a2ed-64ae606cc7f7",
   "metadata": {},
   "outputs": [],
   "source": [
    "raceResultFirst = pd.Series([5,19,14,12],[\"A\",\"B\",\"C\",\"D\"])"
   ]
  },
  {
   "cell_type": "code",
   "execution_count": 19,
   "id": "b28f229f-37c6-4449-a0e9-13c83af1e94d",
   "metadata": {},
   "outputs": [
    {
     "data": {
      "text/plain": [
       "A     5\n",
       "B    19\n",
       "C    14\n",
       "D    12\n",
       "dtype: int64"
      ]
     },
     "execution_count": 19,
     "metadata": {},
     "output_type": "execute_result"
    }
   ],
   "source": [
    "raceResultFirst"
   ]
  },
  {
   "cell_type": "code",
   "execution_count": 20,
   "id": "e80bbad7-6ed5-478c-8890-1edbf8fa95f2",
   "metadata": {},
   "outputs": [],
   "source": [
    "raceResultSecond = pd.Series([1,5,4,2],[\"A\",\"B\",\"C\",\"D\"])"
   ]
  },
  {
   "cell_type": "code",
   "execution_count": 21,
   "id": "b7601b67-41e6-4f58-b2b9-24d78a25bb11",
   "metadata": {},
   "outputs": [
    {
     "data": {
      "text/plain": [
       "A    1\n",
       "B    5\n",
       "C    4\n",
       "D    2\n",
       "dtype: int64"
      ]
     },
     "execution_count": 21,
     "metadata": {},
     "output_type": "execute_result"
    }
   ],
   "source": [
    "raceResultSecond"
   ]
  },
  {
   "cell_type": "code",
   "execution_count": 22,
   "id": "3fa10891-a035-4ad7-9571-166bbad8ab03",
   "metadata": {},
   "outputs": [
    {
     "data": {
      "text/plain": [
       "1"
      ]
     },
     "execution_count": 22,
     "metadata": {},
     "output_type": "execute_result"
    }
   ],
   "source": [
    "raceResultSecond[\"A\"]"
   ]
  },
  {
   "cell_type": "code",
   "execution_count": 23,
   "id": "14007ed2-2cb8-4cd5-973c-1290d8c4fad7",
   "metadata": {},
   "outputs": [],
   "source": [
    "raceResult = raceResultFirst + raceResultSecond"
   ]
  },
  {
   "cell_type": "code",
   "execution_count": 24,
   "id": "e7879d62-c593-47f9-8ae4-110c090624a2",
   "metadata": {},
   "outputs": [
    {
     "data": {
      "text/plain": [
       "A     6\n",
       "B    24\n",
       "C    18\n",
       "D    14\n",
       "dtype: int64"
      ]
     },
     "execution_count": 24,
     "metadata": {},
     "output_type": "execute_result"
    }
   ],
   "source": [
    "raceResult"
   ]
  },
  {
   "cell_type": "code",
   "execution_count": 26,
   "id": "2a1d8e01-5eae-4429-9a3a-74ef6d72cd26",
   "metadata": {},
   "outputs": [],
   "source": [
    "otherSeriesFirst = pd.Series([20,30,40,50],[\"x\",\"y\",\"z\",\"k\"])"
   ]
  },
  {
   "cell_type": "code",
   "execution_count": 27,
   "id": "0f425fe1-2af8-466c-8665-c29a3e3e0b46",
   "metadata": {},
   "outputs": [],
   "source": [
    "otherSeriesSecond =  pd.Series([25,35,45,55],[\"x\",\"b\",\"d\",\"t\"])"
   ]
  },
  {
   "cell_type": "code",
   "execution_count": null,
   "id": "edab4111-2373-45bc-aa4d-3bfdeaf3eba8",
   "metadata": {},
   "outputs": [],
   "source": [
    "otherSeries = otherS"
   ]
  }
 ],
 "metadata": {
  "kernelspec": {
   "display_name": "Python 3 (ipykernel)",
   "language": "python",
   "name": "python3"
  },
  "language_info": {
   "codemirror_mode": {
    "name": "ipython",
    "version": 3
   },
   "file_extension": ".py",
   "mimetype": "text/x-python",
   "name": "python",
   "nbconvert_exporter": "python",
   "pygments_lexer": "ipython3",
   "version": "3.11.7"
  }
 },
 "nbformat": 4,
 "nbformat_minor": 5
}
