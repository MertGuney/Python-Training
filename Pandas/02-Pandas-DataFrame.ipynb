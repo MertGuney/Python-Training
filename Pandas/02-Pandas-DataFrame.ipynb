{
 "cells": [
  {
   "cell_type": "code",
   "execution_count": 2,
   "id": "4dc189c2-9afa-4651-9834-35c81cf65846",
   "metadata": {},
   "outputs": [],
   "source": [
    "import pandas as pd\n",
    "import numpy as np"
   ]
  },
  {
   "cell_type": "code",
   "execution_count": 3,
   "id": "33b95922-011e-4da4-bd2b-de9b83d26416",
   "metadata": {},
   "outputs": [],
   "source": [
    "data = np.random.randn(4,3)"
   ]
  },
  {
   "cell_type": "code",
   "execution_count": 4,
   "id": "5e4b5104-dd7c-4862-bf46-d096fa070c5c",
   "metadata": {},
   "outputs": [
    {
     "data": {
      "text/plain": [
       "array([[ 0.50013573, -0.49367615,  1.31880824],\n",
       "       [-1.45379103,  0.00936744, -1.5188822 ],\n",
       "       [ 1.26836021,  0.08484398, -2.95250702],\n",
       "       [ 0.19259552,  1.00818533,  1.6115338 ]])"
      ]
     },
     "execution_count": 4,
     "metadata": {},
     "output_type": "execute_result"
    }
   ],
   "source": [
    "data"
   ]
  },
  {
   "cell_type": "code",
   "execution_count": 5,
   "id": "3a455736-da27-47fa-b984-b5b308353c88",
   "metadata": {},
   "outputs": [],
   "source": [
    "dataFrame = pd.DataFrame(data)"
   ]
  },
  {
   "cell_type": "code",
   "execution_count": 6,
   "id": "b162e7ed-de8f-49fc-bef1-43f0bea4471f",
   "metadata": {},
   "outputs": [
    {
     "data": {
      "text/html": [
       "<div>\n",
       "<style scoped>\n",
       "    .dataframe tbody tr th:only-of-type {\n",
       "        vertical-align: middle;\n",
       "    }\n",
       "\n",
       "    .dataframe tbody tr th {\n",
       "        vertical-align: top;\n",
       "    }\n",
       "\n",
       "    .dataframe thead th {\n",
       "        text-align: right;\n",
       "    }\n",
       "</style>\n",
       "<table border=\"1\" class=\"dataframe\">\n",
       "  <thead>\n",
       "    <tr style=\"text-align: right;\">\n",
       "      <th></th>\n",
       "      <th>0</th>\n",
       "      <th>1</th>\n",
       "      <th>2</th>\n",
       "    </tr>\n",
       "  </thead>\n",
       "  <tbody>\n",
       "    <tr>\n",
       "      <th>0</th>\n",
       "      <td>0.500136</td>\n",
       "      <td>-0.493676</td>\n",
       "      <td>1.318808</td>\n",
       "    </tr>\n",
       "    <tr>\n",
       "      <th>1</th>\n",
       "      <td>-1.453791</td>\n",
       "      <td>0.009367</td>\n",
       "      <td>-1.518882</td>\n",
       "    </tr>\n",
       "    <tr>\n",
       "      <th>2</th>\n",
       "      <td>1.268360</td>\n",
       "      <td>0.084844</td>\n",
       "      <td>-2.952507</td>\n",
       "    </tr>\n",
       "    <tr>\n",
       "      <th>3</th>\n",
       "      <td>0.192596</td>\n",
       "      <td>1.008185</td>\n",
       "      <td>1.611534</td>\n",
       "    </tr>\n",
       "  </tbody>\n",
       "</table>\n",
       "</div>"
      ],
      "text/plain": [
       "          0         1         2\n",
       "0  0.500136 -0.493676  1.318808\n",
       "1 -1.453791  0.009367 -1.518882\n",
       "2  1.268360  0.084844 -2.952507\n",
       "3  0.192596  1.008185  1.611534"
      ]
     },
     "execution_count": 6,
     "metadata": {},
     "output_type": "execute_result"
    }
   ],
   "source": [
    "dataFrame"
   ]
  },
  {
   "cell_type": "code",
   "execution_count": 7,
   "id": "78ed5730-22bf-4f23-8c0b-b1d380f115f2",
   "metadata": {},
   "outputs": [
    {
     "data": {
      "text/plain": [
       "0    0.500136\n",
       "1   -1.453791\n",
       "2    1.268360\n",
       "3    0.192596\n",
       "Name: 0, dtype: float64"
      ]
     },
     "execution_count": 7,
     "metadata": {},
     "output_type": "execute_result"
    }
   ],
   "source": [
    "dataFrame[0]"
   ]
  },
  {
   "cell_type": "code",
   "execution_count": 8,
   "id": "311cdd7d-9979-4b8c-a004-bab7f9c8973e",
   "metadata": {},
   "outputs": [],
   "source": [
    "newDataFrame = pd.DataFrame(data,index=[\"Mert\",\"Elif\",\"Melek\",\"Mustafa\"],columns = [\"Price\",\"Age\",\"Hour\"])"
   ]
  },
  {
   "cell_type": "code",
   "execution_count": 9,
   "id": "b6e9efd9-bfa3-43ee-b1d6-af9327338b77",
   "metadata": {},
   "outputs": [
    {
     "data": {
      "text/html": [
       "<div>\n",
       "<style scoped>\n",
       "    .dataframe tbody tr th:only-of-type {\n",
       "        vertical-align: middle;\n",
       "    }\n",
       "\n",
       "    .dataframe tbody tr th {\n",
       "        vertical-align: top;\n",
       "    }\n",
       "\n",
       "    .dataframe thead th {\n",
       "        text-align: right;\n",
       "    }\n",
       "</style>\n",
       "<table border=\"1\" class=\"dataframe\">\n",
       "  <thead>\n",
       "    <tr style=\"text-align: right;\">\n",
       "      <th></th>\n",
       "      <th>Price</th>\n",
       "      <th>Age</th>\n",
       "      <th>Hour</th>\n",
       "    </tr>\n",
       "  </thead>\n",
       "  <tbody>\n",
       "    <tr>\n",
       "      <th>Mert</th>\n",
       "      <td>0.500136</td>\n",
       "      <td>-0.493676</td>\n",
       "      <td>1.318808</td>\n",
       "    </tr>\n",
       "    <tr>\n",
       "      <th>Elif</th>\n",
       "      <td>-1.453791</td>\n",
       "      <td>0.009367</td>\n",
       "      <td>-1.518882</td>\n",
       "    </tr>\n",
       "    <tr>\n",
       "      <th>Melek</th>\n",
       "      <td>1.268360</td>\n",
       "      <td>0.084844</td>\n",
       "      <td>-2.952507</td>\n",
       "    </tr>\n",
       "    <tr>\n",
       "      <th>Mustafa</th>\n",
       "      <td>0.192596</td>\n",
       "      <td>1.008185</td>\n",
       "      <td>1.611534</td>\n",
       "    </tr>\n",
       "  </tbody>\n",
       "</table>\n",
       "</div>"
      ],
      "text/plain": [
       "            Price       Age      Hour\n",
       "Mert     0.500136 -0.493676  1.318808\n",
       "Elif    -1.453791  0.009367 -1.518882\n",
       "Melek    1.268360  0.084844 -2.952507\n",
       "Mustafa  0.192596  1.008185  1.611534"
      ]
     },
     "execution_count": 9,
     "metadata": {},
     "output_type": "execute_result"
    }
   ],
   "source": [
    "newDataFrame"
   ]
  },
  {
   "cell_type": "code",
   "execution_count": 10,
   "id": "64196eb7-6346-4e9f-b171-e7bdd2885c60",
   "metadata": {},
   "outputs": [
    {
     "data": {
      "text/plain": [
       "Mert      -0.493676\n",
       "Elif       0.009367\n",
       "Melek      0.084844\n",
       "Mustafa    1.008185\n",
       "Name: Age, dtype: float64"
      ]
     },
     "execution_count": 10,
     "metadata": {},
     "output_type": "execute_result"
    }
   ],
   "source": [
    "newDataFrame[\"Age\"]"
   ]
  },
  {
   "cell_type": "code",
   "execution_count": 11,
   "id": "518ec6d3-6695-4939-aaf3-d285f1873048",
   "metadata": {},
   "outputs": [
    {
     "data": {
      "text/html": [
       "<div>\n",
       "<style scoped>\n",
       "    .dataframe tbody tr th:only-of-type {\n",
       "        vertical-align: middle;\n",
       "    }\n",
       "\n",
       "    .dataframe tbody tr th {\n",
       "        vertical-align: top;\n",
       "    }\n",
       "\n",
       "    .dataframe thead th {\n",
       "        text-align: right;\n",
       "    }\n",
       "</style>\n",
       "<table border=\"1\" class=\"dataframe\">\n",
       "  <thead>\n",
       "    <tr style=\"text-align: right;\">\n",
       "      <th></th>\n",
       "      <th>Price</th>\n",
       "      <th>Age</th>\n",
       "    </tr>\n",
       "  </thead>\n",
       "  <tbody>\n",
       "    <tr>\n",
       "      <th>Mert</th>\n",
       "      <td>0.500136</td>\n",
       "      <td>-0.493676</td>\n",
       "    </tr>\n",
       "    <tr>\n",
       "      <th>Elif</th>\n",
       "      <td>-1.453791</td>\n",
       "      <td>0.009367</td>\n",
       "    </tr>\n",
       "    <tr>\n",
       "      <th>Melek</th>\n",
       "      <td>1.268360</td>\n",
       "      <td>0.084844</td>\n",
       "    </tr>\n",
       "    <tr>\n",
       "      <th>Mustafa</th>\n",
       "      <td>0.192596</td>\n",
       "      <td>1.008185</td>\n",
       "    </tr>\n",
       "  </tbody>\n",
       "</table>\n",
       "</div>"
      ],
      "text/plain": [
       "            Price       Age\n",
       "Mert     0.500136 -0.493676\n",
       "Elif    -1.453791  0.009367\n",
       "Melek    1.268360  0.084844\n",
       "Mustafa  0.192596  1.008185"
      ]
     },
     "execution_count": 11,
     "metadata": {},
     "output_type": "execute_result"
    }
   ],
   "source": [
    "newDataFrame[[\"Price\",\"Age\"]]"
   ]
  },
  {
   "cell_type": "code",
   "execution_count": 12,
   "id": "00d0e000-6683-4851-938e-93d515a0e00e",
   "metadata": {},
   "outputs": [
    {
     "data": {
      "text/plain": [
       "Price    0.500136\n",
       "Age     -0.493676\n",
       "Hour     1.318808\n",
       "Name: Mert, dtype: float64"
      ]
     },
     "execution_count": 12,
     "metadata": {},
     "output_type": "execute_result"
    }
   ],
   "source": [
    "newDataFrame.loc[\"Mert\"]"
   ]
  },
  {
   "cell_type": "code",
   "execution_count": 13,
   "id": "60a43405-303b-466a-a02e-a7d4c837c99a",
   "metadata": {},
   "outputs": [
    {
     "data": {
      "text/plain": [
       "Price   -1.453791\n",
       "Age      0.009367\n",
       "Hour    -1.518882\n",
       "Name: Elif, dtype: float64"
      ]
     },
     "execution_count": 13,
     "metadata": {},
     "output_type": "execute_result"
    }
   ],
   "source": [
    "newDataFrame.iloc[1]"
   ]
  },
  {
   "cell_type": "markdown",
   "id": "87d99baa-7328-4181-94d9-2f1fc823ec0b",
   "metadata": {},
   "source": [
    "## Index"
   ]
  },
  {
   "cell_type": "code",
   "execution_count": 14,
   "id": "4a7864e4-a16a-402a-a112-d73678a62bfc",
   "metadata": {},
   "outputs": [],
   "source": [
    "newDataFrame[\"Total\"] = newDataFrame[\"Age\"] * newDataFrame[\"Hour\"] "
   ]
  },
  {
   "cell_type": "code",
   "execution_count": 15,
   "id": "73650e8e-39db-4022-bf47-b15adfdaf78a",
   "metadata": {},
   "outputs": [
    {
     "data": {
      "text/html": [
       "<div>\n",
       "<style scoped>\n",
       "    .dataframe tbody tr th:only-of-type {\n",
       "        vertical-align: middle;\n",
       "    }\n",
       "\n",
       "    .dataframe tbody tr th {\n",
       "        vertical-align: top;\n",
       "    }\n",
       "\n",
       "    .dataframe thead th {\n",
       "        text-align: right;\n",
       "    }\n",
       "</style>\n",
       "<table border=\"1\" class=\"dataframe\">\n",
       "  <thead>\n",
       "    <tr style=\"text-align: right;\">\n",
       "      <th></th>\n",
       "      <th>Price</th>\n",
       "      <th>Age</th>\n",
       "      <th>Hour</th>\n",
       "      <th>Total</th>\n",
       "    </tr>\n",
       "  </thead>\n",
       "  <tbody>\n",
       "    <tr>\n",
       "      <th>Mert</th>\n",
       "      <td>0.500136</td>\n",
       "      <td>-0.493676</td>\n",
       "      <td>1.318808</td>\n",
       "      <td>-0.651064</td>\n",
       "    </tr>\n",
       "    <tr>\n",
       "      <th>Elif</th>\n",
       "      <td>-1.453791</td>\n",
       "      <td>0.009367</td>\n",
       "      <td>-1.518882</td>\n",
       "      <td>-0.014228</td>\n",
       "    </tr>\n",
       "    <tr>\n",
       "      <th>Melek</th>\n",
       "      <td>1.268360</td>\n",
       "      <td>0.084844</td>\n",
       "      <td>-2.952507</td>\n",
       "      <td>-0.250502</td>\n",
       "    </tr>\n",
       "    <tr>\n",
       "      <th>Mustafa</th>\n",
       "      <td>0.192596</td>\n",
       "      <td>1.008185</td>\n",
       "      <td>1.611534</td>\n",
       "      <td>1.624725</td>\n",
       "    </tr>\n",
       "  </tbody>\n",
       "</table>\n",
       "</div>"
      ],
      "text/plain": [
       "            Price       Age      Hour     Total\n",
       "Mert     0.500136 -0.493676  1.318808 -0.651064\n",
       "Elif    -1.453791  0.009367 -1.518882 -0.014228\n",
       "Melek    1.268360  0.084844 -2.952507 -0.250502\n",
       "Mustafa  0.192596  1.008185  1.611534  1.624725"
      ]
     },
     "execution_count": 15,
     "metadata": {},
     "output_type": "execute_result"
    }
   ],
   "source": [
    "newDataFrame"
   ]
  },
  {
   "cell_type": "code",
   "execution_count": 16,
   "id": "7f2f23be-4b08-4ef0-a0e9-b7ecc03c72c6",
   "metadata": {},
   "outputs": [
    {
     "data": {
      "text/html": [
       "<div>\n",
       "<style scoped>\n",
       "    .dataframe tbody tr th:only-of-type {\n",
       "        vertical-align: middle;\n",
       "    }\n",
       "\n",
       "    .dataframe tbody tr th {\n",
       "        vertical-align: top;\n",
       "    }\n",
       "\n",
       "    .dataframe thead th {\n",
       "        text-align: right;\n",
       "    }\n",
       "</style>\n",
       "<table border=\"1\" class=\"dataframe\">\n",
       "  <thead>\n",
       "    <tr style=\"text-align: right;\">\n",
       "      <th></th>\n",
       "      <th>Price</th>\n",
       "      <th>Age</th>\n",
       "      <th>Hour</th>\n",
       "    </tr>\n",
       "  </thead>\n",
       "  <tbody>\n",
       "    <tr>\n",
       "      <th>Mert</th>\n",
       "      <td>0.500136</td>\n",
       "      <td>-0.493676</td>\n",
       "      <td>1.318808</td>\n",
       "    </tr>\n",
       "    <tr>\n",
       "      <th>Elif</th>\n",
       "      <td>-1.453791</td>\n",
       "      <td>0.009367</td>\n",
       "      <td>-1.518882</td>\n",
       "    </tr>\n",
       "    <tr>\n",
       "      <th>Melek</th>\n",
       "      <td>1.268360</td>\n",
       "      <td>0.084844</td>\n",
       "      <td>-2.952507</td>\n",
       "    </tr>\n",
       "    <tr>\n",
       "      <th>Mustafa</th>\n",
       "      <td>0.192596</td>\n",
       "      <td>1.008185</td>\n",
       "      <td>1.611534</td>\n",
       "    </tr>\n",
       "  </tbody>\n",
       "</table>\n",
       "</div>"
      ],
      "text/plain": [
       "            Price       Age      Hour\n",
       "Mert     0.500136 -0.493676  1.318808\n",
       "Elif    -1.453791  0.009367 -1.518882\n",
       "Melek    1.268360  0.084844 -2.952507\n",
       "Mustafa  0.192596  1.008185  1.611534"
      ]
     },
     "execution_count": 16,
     "metadata": {},
     "output_type": "execute_result"
    }
   ],
   "source": [
    "newDataFrame.drop(\"Total\", axis = 1)"
   ]
  },
  {
   "cell_type": "code",
   "execution_count": 17,
   "id": "7ff83725-d258-48e9-9515-ce33641f3908",
   "metadata": {},
   "outputs": [
    {
     "data": {
      "text/html": [
       "<div>\n",
       "<style scoped>\n",
       "    .dataframe tbody tr th:only-of-type {\n",
       "        vertical-align: middle;\n",
       "    }\n",
       "\n",
       "    .dataframe tbody tr th {\n",
       "        vertical-align: top;\n",
       "    }\n",
       "\n",
       "    .dataframe thead th {\n",
       "        text-align: right;\n",
       "    }\n",
       "</style>\n",
       "<table border=\"1\" class=\"dataframe\">\n",
       "  <thead>\n",
       "    <tr style=\"text-align: right;\">\n",
       "      <th></th>\n",
       "      <th>Price</th>\n",
       "      <th>Age</th>\n",
       "      <th>Hour</th>\n",
       "      <th>Total</th>\n",
       "    </tr>\n",
       "  </thead>\n",
       "  <tbody>\n",
       "    <tr>\n",
       "      <th>Mert</th>\n",
       "      <td>0.500136</td>\n",
       "      <td>-0.493676</td>\n",
       "      <td>1.318808</td>\n",
       "      <td>-0.651064</td>\n",
       "    </tr>\n",
       "    <tr>\n",
       "      <th>Elif</th>\n",
       "      <td>-1.453791</td>\n",
       "      <td>0.009367</td>\n",
       "      <td>-1.518882</td>\n",
       "      <td>-0.014228</td>\n",
       "    </tr>\n",
       "    <tr>\n",
       "      <th>Melek</th>\n",
       "      <td>1.268360</td>\n",
       "      <td>0.084844</td>\n",
       "      <td>-2.952507</td>\n",
       "      <td>-0.250502</td>\n",
       "    </tr>\n",
       "  </tbody>\n",
       "</table>\n",
       "</div>"
      ],
      "text/plain": [
       "          Price       Age      Hour     Total\n",
       "Mert   0.500136 -0.493676  1.318808 -0.651064\n",
       "Elif  -1.453791  0.009367 -1.518882 -0.014228\n",
       "Melek  1.268360  0.084844 -2.952507 -0.250502"
      ]
     },
     "execution_count": 17,
     "metadata": {},
     "output_type": "execute_result"
    }
   ],
   "source": [
    "newDataFrame.drop(\"Mustafa\", axis = 0)"
   ]
  },
  {
   "cell_type": "code",
   "execution_count": 18,
   "id": "054f5e65-70c5-4254-b961-6e1edee54b89",
   "metadata": {},
   "outputs": [],
   "source": [
    "newDataFrame.drop(\"Total\", axis = 1, inplace = True)"
   ]
  },
  {
   "cell_type": "code",
   "execution_count": 19,
   "id": "7f4c87cf-05ee-4040-8658-9ef03d08976a",
   "metadata": {},
   "outputs": [
    {
     "data": {
      "text/html": [
       "<div>\n",
       "<style scoped>\n",
       "    .dataframe tbody tr th:only-of-type {\n",
       "        vertical-align: middle;\n",
       "    }\n",
       "\n",
       "    .dataframe tbody tr th {\n",
       "        vertical-align: top;\n",
       "    }\n",
       "\n",
       "    .dataframe thead th {\n",
       "        text-align: right;\n",
       "    }\n",
       "</style>\n",
       "<table border=\"1\" class=\"dataframe\">\n",
       "  <thead>\n",
       "    <tr style=\"text-align: right;\">\n",
       "      <th></th>\n",
       "      <th>Price</th>\n",
       "      <th>Age</th>\n",
       "      <th>Hour</th>\n",
       "    </tr>\n",
       "  </thead>\n",
       "  <tbody>\n",
       "    <tr>\n",
       "      <th>Mert</th>\n",
       "      <td>0.500136</td>\n",
       "      <td>-0.493676</td>\n",
       "      <td>1.318808</td>\n",
       "    </tr>\n",
       "    <tr>\n",
       "      <th>Elif</th>\n",
       "      <td>-1.453791</td>\n",
       "      <td>0.009367</td>\n",
       "      <td>-1.518882</td>\n",
       "    </tr>\n",
       "    <tr>\n",
       "      <th>Melek</th>\n",
       "      <td>1.268360</td>\n",
       "      <td>0.084844</td>\n",
       "      <td>-2.952507</td>\n",
       "    </tr>\n",
       "    <tr>\n",
       "      <th>Mustafa</th>\n",
       "      <td>0.192596</td>\n",
       "      <td>1.008185</td>\n",
       "      <td>1.611534</td>\n",
       "    </tr>\n",
       "  </tbody>\n",
       "</table>\n",
       "</div>"
      ],
      "text/plain": [
       "            Price       Age      Hour\n",
       "Mert     0.500136 -0.493676  1.318808\n",
       "Elif    -1.453791  0.009367 -1.518882\n",
       "Melek    1.268360  0.084844 -2.952507\n",
       "Mustafa  0.192596  1.008185  1.611534"
      ]
     },
     "execution_count": 19,
     "metadata": {},
     "output_type": "execute_result"
    }
   ],
   "source": [
    "newDataFrame"
   ]
  },
  {
   "cell_type": "code",
   "execution_count": 20,
   "id": "8a68e6fd-d533-41e1-9cc0-5f8025411673",
   "metadata": {},
   "outputs": [
    {
     "data": {
      "text/plain": [
       "-0.49367614973621643"
      ]
     },
     "execution_count": 20,
     "metadata": {},
     "output_type": "execute_result"
    }
   ],
   "source": [
    "newDataFrame.loc[\"Mert\"][\"Age\"]"
   ]
  },
  {
   "cell_type": "code",
   "execution_count": 21,
   "id": "131e5005-f7d1-4a7b-9d6b-87a99744c189",
   "metadata": {},
   "outputs": [
    {
     "data": {
      "text/plain": [
       "-0.49367614973621643"
      ]
     },
     "execution_count": 21,
     "metadata": {},
     "output_type": "execute_result"
    }
   ],
   "source": [
    "newDataFrame.loc[\"Mert\",\"Age\"]"
   ]
  },
  {
   "cell_type": "code",
   "execution_count": 22,
   "id": "f0235c69-467a-4a80-a9d1-195393073c3f",
   "metadata": {},
   "outputs": [],
   "source": [
    "booleanFrame = newDataFrame < 0"
   ]
  },
  {
   "cell_type": "code",
   "execution_count": 23,
   "id": "857fc577-6656-4372-9709-5a7fe650781b",
   "metadata": {},
   "outputs": [
    {
     "data": {
      "text/html": [
       "<div>\n",
       "<style scoped>\n",
       "    .dataframe tbody tr th:only-of-type {\n",
       "        vertical-align: middle;\n",
       "    }\n",
       "\n",
       "    .dataframe tbody tr th {\n",
       "        vertical-align: top;\n",
       "    }\n",
       "\n",
       "    .dataframe thead th {\n",
       "        text-align: right;\n",
       "    }\n",
       "</style>\n",
       "<table border=\"1\" class=\"dataframe\">\n",
       "  <thead>\n",
       "    <tr style=\"text-align: right;\">\n",
       "      <th></th>\n",
       "      <th>Price</th>\n",
       "      <th>Age</th>\n",
       "      <th>Hour</th>\n",
       "    </tr>\n",
       "  </thead>\n",
       "  <tbody>\n",
       "    <tr>\n",
       "      <th>Mert</th>\n",
       "      <td>False</td>\n",
       "      <td>True</td>\n",
       "      <td>False</td>\n",
       "    </tr>\n",
       "    <tr>\n",
       "      <th>Elif</th>\n",
       "      <td>True</td>\n",
       "      <td>False</td>\n",
       "      <td>True</td>\n",
       "    </tr>\n",
       "    <tr>\n",
       "      <th>Melek</th>\n",
       "      <td>False</td>\n",
       "      <td>False</td>\n",
       "      <td>True</td>\n",
       "    </tr>\n",
       "    <tr>\n",
       "      <th>Mustafa</th>\n",
       "      <td>False</td>\n",
       "      <td>False</td>\n",
       "      <td>False</td>\n",
       "    </tr>\n",
       "  </tbody>\n",
       "</table>\n",
       "</div>"
      ],
      "text/plain": [
       "         Price    Age   Hour\n",
       "Mert     False   True  False\n",
       "Elif      True  False   True\n",
       "Melek    False  False   True\n",
       "Mustafa  False  False  False"
      ]
     },
     "execution_count": 23,
     "metadata": {},
     "output_type": "execute_result"
    }
   ],
   "source": [
    "booleanFrame"
   ]
  },
  {
   "cell_type": "code",
   "execution_count": 24,
   "id": "43c40ff6-a81b-45c2-888b-38e904458c42",
   "metadata": {},
   "outputs": [
    {
     "data": {
      "text/html": [
       "<div>\n",
       "<style scoped>\n",
       "    .dataframe tbody tr th:only-of-type {\n",
       "        vertical-align: middle;\n",
       "    }\n",
       "\n",
       "    .dataframe tbody tr th {\n",
       "        vertical-align: top;\n",
       "    }\n",
       "\n",
       "    .dataframe thead th {\n",
       "        text-align: right;\n",
       "    }\n",
       "</style>\n",
       "<table border=\"1\" class=\"dataframe\">\n",
       "  <thead>\n",
       "    <tr style=\"text-align: right;\">\n",
       "      <th></th>\n",
       "      <th>Price</th>\n",
       "      <th>Age</th>\n",
       "      <th>Hour</th>\n",
       "    </tr>\n",
       "  </thead>\n",
       "  <tbody>\n",
       "    <tr>\n",
       "      <th>Mert</th>\n",
       "      <td>NaN</td>\n",
       "      <td>-0.493676</td>\n",
       "      <td>NaN</td>\n",
       "    </tr>\n",
       "    <tr>\n",
       "      <th>Elif</th>\n",
       "      <td>-1.453791</td>\n",
       "      <td>NaN</td>\n",
       "      <td>-1.518882</td>\n",
       "    </tr>\n",
       "    <tr>\n",
       "      <th>Melek</th>\n",
       "      <td>NaN</td>\n",
       "      <td>NaN</td>\n",
       "      <td>-2.952507</td>\n",
       "    </tr>\n",
       "    <tr>\n",
       "      <th>Mustafa</th>\n",
       "      <td>NaN</td>\n",
       "      <td>NaN</td>\n",
       "      <td>NaN</td>\n",
       "    </tr>\n",
       "  </tbody>\n",
       "</table>\n",
       "</div>"
      ],
      "text/plain": [
       "            Price       Age      Hour\n",
       "Mert          NaN -0.493676       NaN\n",
       "Elif    -1.453791       NaN -1.518882\n",
       "Melek         NaN       NaN -2.952507\n",
       "Mustafa       NaN       NaN       NaN"
      ]
     },
     "execution_count": 24,
     "metadata": {},
     "output_type": "execute_result"
    }
   ],
   "source": [
    "newDataFrame[booleanFrame]"
   ]
  },
  {
   "cell_type": "code",
   "execution_count": 25,
   "id": "622b726d-b8f2-4f4e-a1f1-e0176dd990ad",
   "metadata": {},
   "outputs": [
    {
     "data": {
      "text/html": [
       "<div>\n",
       "<style scoped>\n",
       "    .dataframe tbody tr th:only-of-type {\n",
       "        vertical-align: middle;\n",
       "    }\n",
       "\n",
       "    .dataframe tbody tr th {\n",
       "        vertical-align: top;\n",
       "    }\n",
       "\n",
       "    .dataframe thead th {\n",
       "        text-align: right;\n",
       "    }\n",
       "</style>\n",
       "<table border=\"1\" class=\"dataframe\">\n",
       "  <thead>\n",
       "    <tr style=\"text-align: right;\">\n",
       "      <th></th>\n",
       "      <th>Price</th>\n",
       "      <th>Age</th>\n",
       "      <th>Hour</th>\n",
       "    </tr>\n",
       "  </thead>\n",
       "  <tbody>\n",
       "    <tr>\n",
       "      <th>Mert</th>\n",
       "      <td>NaN</td>\n",
       "      <td>-0.493676</td>\n",
       "      <td>NaN</td>\n",
       "    </tr>\n",
       "    <tr>\n",
       "      <th>Elif</th>\n",
       "      <td>-1.453791</td>\n",
       "      <td>NaN</td>\n",
       "      <td>-1.518882</td>\n",
       "    </tr>\n",
       "    <tr>\n",
       "      <th>Melek</th>\n",
       "      <td>NaN</td>\n",
       "      <td>NaN</td>\n",
       "      <td>-2.952507</td>\n",
       "    </tr>\n",
       "    <tr>\n",
       "      <th>Mustafa</th>\n",
       "      <td>NaN</td>\n",
       "      <td>NaN</td>\n",
       "      <td>NaN</td>\n",
       "    </tr>\n",
       "  </tbody>\n",
       "</table>\n",
       "</div>"
      ],
      "text/plain": [
       "            Price       Age      Hour\n",
       "Mert          NaN -0.493676       NaN\n",
       "Elif    -1.453791       NaN -1.518882\n",
       "Melek         NaN       NaN -2.952507\n",
       "Mustafa       NaN       NaN       NaN"
      ]
     },
     "execution_count": 25,
     "metadata": {},
     "output_type": "execute_result"
    }
   ],
   "source": [
    "newDataFrame[newDataFrame < 0]"
   ]
  },
  {
   "cell_type": "code",
   "execution_count": 26,
   "id": "bab64afa-08c3-48c0-b786-90a3cb5c3b48",
   "metadata": {},
   "outputs": [
    {
     "data": {
      "text/html": [
       "<div>\n",
       "<style scoped>\n",
       "    .dataframe tbody tr th:only-of-type {\n",
       "        vertical-align: middle;\n",
       "    }\n",
       "\n",
       "    .dataframe tbody tr th {\n",
       "        vertical-align: top;\n",
       "    }\n",
       "\n",
       "    .dataframe thead th {\n",
       "        text-align: right;\n",
       "    }\n",
       "</style>\n",
       "<table border=\"1\" class=\"dataframe\">\n",
       "  <thead>\n",
       "    <tr style=\"text-align: right;\">\n",
       "      <th></th>\n",
       "      <th>Price</th>\n",
       "      <th>Age</th>\n",
       "      <th>Hour</th>\n",
       "    </tr>\n",
       "  </thead>\n",
       "  <tbody>\n",
       "    <tr>\n",
       "      <th>Elif</th>\n",
       "      <td>-1.453791</td>\n",
       "      <td>0.009367</td>\n",
       "      <td>-1.518882</td>\n",
       "    </tr>\n",
       "    <tr>\n",
       "      <th>Melek</th>\n",
       "      <td>1.268360</td>\n",
       "      <td>0.084844</td>\n",
       "      <td>-2.952507</td>\n",
       "    </tr>\n",
       "    <tr>\n",
       "      <th>Mustafa</th>\n",
       "      <td>0.192596</td>\n",
       "      <td>1.008185</td>\n",
       "      <td>1.611534</td>\n",
       "    </tr>\n",
       "  </tbody>\n",
       "</table>\n",
       "</div>"
      ],
      "text/plain": [
       "            Price       Age      Hour\n",
       "Elif    -1.453791  0.009367 -1.518882\n",
       "Melek    1.268360  0.084844 -2.952507\n",
       "Mustafa  0.192596  1.008185  1.611534"
      ]
     },
     "execution_count": 26,
     "metadata": {},
     "output_type": "execute_result"
    }
   ],
   "source": [
    "newDataFrame[newDataFrame[\"Age\"] > 0]"
   ]
  },
  {
   "cell_type": "code",
   "execution_count": 27,
   "id": "f065f411-e753-4481-87c9-9b22ce092a67",
   "metadata": {},
   "outputs": [
    {
     "data": {
      "text/html": [
       "<div>\n",
       "<style scoped>\n",
       "    .dataframe tbody tr th:only-of-type {\n",
       "        vertical-align: middle;\n",
       "    }\n",
       "\n",
       "    .dataframe tbody tr th {\n",
       "        vertical-align: top;\n",
       "    }\n",
       "\n",
       "    .dataframe thead th {\n",
       "        text-align: right;\n",
       "    }\n",
       "</style>\n",
       "<table border=\"1\" class=\"dataframe\">\n",
       "  <thead>\n",
       "    <tr style=\"text-align: right;\">\n",
       "      <th></th>\n",
       "      <th>index</th>\n",
       "      <th>Price</th>\n",
       "      <th>Age</th>\n",
       "      <th>Hour</th>\n",
       "    </tr>\n",
       "  </thead>\n",
       "  <tbody>\n",
       "    <tr>\n",
       "      <th>0</th>\n",
       "      <td>Mert</td>\n",
       "      <td>0.500136</td>\n",
       "      <td>-0.493676</td>\n",
       "      <td>1.318808</td>\n",
       "    </tr>\n",
       "    <tr>\n",
       "      <th>1</th>\n",
       "      <td>Elif</td>\n",
       "      <td>-1.453791</td>\n",
       "      <td>0.009367</td>\n",
       "      <td>-1.518882</td>\n",
       "    </tr>\n",
       "    <tr>\n",
       "      <th>2</th>\n",
       "      <td>Melek</td>\n",
       "      <td>1.268360</td>\n",
       "      <td>0.084844</td>\n",
       "      <td>-2.952507</td>\n",
       "    </tr>\n",
       "    <tr>\n",
       "      <th>3</th>\n",
       "      <td>Mustafa</td>\n",
       "      <td>0.192596</td>\n",
       "      <td>1.008185</td>\n",
       "      <td>1.611534</td>\n",
       "    </tr>\n",
       "  </tbody>\n",
       "</table>\n",
       "</div>"
      ],
      "text/plain": [
       "     index     Price       Age      Hour\n",
       "0     Mert  0.500136 -0.493676  1.318808\n",
       "1     Elif -1.453791  0.009367 -1.518882\n",
       "2    Melek  1.268360  0.084844 -2.952507\n",
       "3  Mustafa  0.192596  1.008185  1.611534"
      ]
     },
     "execution_count": 27,
     "metadata": {},
     "output_type": "execute_result"
    }
   ],
   "source": [
    "newDataFrame.reset_index()"
   ]
  },
  {
   "cell_type": "code",
   "execution_count": 28,
   "id": "5b8d4702-4ecb-404f-94cd-b23d89910e2c",
   "metadata": {},
   "outputs": [],
   "source": [
    "newIndexList = [\"At\", \"Me\", \"Di\", \"Bu\"]"
   ]
  },
  {
   "cell_type": "code",
   "execution_count": 29,
   "id": "503241a3-51b3-4757-939d-3224cdb619cf",
   "metadata": {},
   "outputs": [],
   "source": [
    "newDataFrame[\"New Index\"] = newIndexList"
   ]
  },
  {
   "cell_type": "code",
   "execution_count": 30,
   "id": "ec1b78b0-c495-4ff9-a6e3-0ff8d59fb765",
   "metadata": {},
   "outputs": [
    {
     "data": {
      "text/html": [
       "<div>\n",
       "<style scoped>\n",
       "    .dataframe tbody tr th:only-of-type {\n",
       "        vertical-align: middle;\n",
       "    }\n",
       "\n",
       "    .dataframe tbody tr th {\n",
       "        vertical-align: top;\n",
       "    }\n",
       "\n",
       "    .dataframe thead th {\n",
       "        text-align: right;\n",
       "    }\n",
       "</style>\n",
       "<table border=\"1\" class=\"dataframe\">\n",
       "  <thead>\n",
       "    <tr style=\"text-align: right;\">\n",
       "      <th></th>\n",
       "      <th>Price</th>\n",
       "      <th>Age</th>\n",
       "      <th>Hour</th>\n",
       "      <th>New Index</th>\n",
       "    </tr>\n",
       "  </thead>\n",
       "  <tbody>\n",
       "    <tr>\n",
       "      <th>Mert</th>\n",
       "      <td>0.500136</td>\n",
       "      <td>-0.493676</td>\n",
       "      <td>1.318808</td>\n",
       "      <td>At</td>\n",
       "    </tr>\n",
       "    <tr>\n",
       "      <th>Elif</th>\n",
       "      <td>-1.453791</td>\n",
       "      <td>0.009367</td>\n",
       "      <td>-1.518882</td>\n",
       "      <td>Me</td>\n",
       "    </tr>\n",
       "    <tr>\n",
       "      <th>Melek</th>\n",
       "      <td>1.268360</td>\n",
       "      <td>0.084844</td>\n",
       "      <td>-2.952507</td>\n",
       "      <td>Di</td>\n",
       "    </tr>\n",
       "    <tr>\n",
       "      <th>Mustafa</th>\n",
       "      <td>0.192596</td>\n",
       "      <td>1.008185</td>\n",
       "      <td>1.611534</td>\n",
       "      <td>Bu</td>\n",
       "    </tr>\n",
       "  </tbody>\n",
       "</table>\n",
       "</div>"
      ],
      "text/plain": [
       "            Price       Age      Hour New Index\n",
       "Mert     0.500136 -0.493676  1.318808        At\n",
       "Elif    -1.453791  0.009367 -1.518882        Me\n",
       "Melek    1.268360  0.084844 -2.952507        Di\n",
       "Mustafa  0.192596  1.008185  1.611534        Bu"
      ]
     },
     "execution_count": 30,
     "metadata": {},
     "output_type": "execute_result"
    }
   ],
   "source": [
    "newDataFrame"
   ]
  },
  {
   "cell_type": "code",
   "execution_count": 31,
   "id": "eaa072d4-eeff-4425-8b65-55d845597db7",
   "metadata": {},
   "outputs": [
    {
     "data": {
      "text/html": [
       "<div>\n",
       "<style scoped>\n",
       "    .dataframe tbody tr th:only-of-type {\n",
       "        vertical-align: middle;\n",
       "    }\n",
       "\n",
       "    .dataframe tbody tr th {\n",
       "        vertical-align: top;\n",
       "    }\n",
       "\n",
       "    .dataframe thead th {\n",
       "        text-align: right;\n",
       "    }\n",
       "</style>\n",
       "<table border=\"1\" class=\"dataframe\">\n",
       "  <thead>\n",
       "    <tr style=\"text-align: right;\">\n",
       "      <th></th>\n",
       "      <th>Price</th>\n",
       "      <th>Age</th>\n",
       "      <th>Hour</th>\n",
       "    </tr>\n",
       "    <tr>\n",
       "      <th>New Index</th>\n",
       "      <th></th>\n",
       "      <th></th>\n",
       "      <th></th>\n",
       "    </tr>\n",
       "  </thead>\n",
       "  <tbody>\n",
       "    <tr>\n",
       "      <th>At</th>\n",
       "      <td>0.500136</td>\n",
       "      <td>-0.493676</td>\n",
       "      <td>1.318808</td>\n",
       "    </tr>\n",
       "    <tr>\n",
       "      <th>Me</th>\n",
       "      <td>-1.453791</td>\n",
       "      <td>0.009367</td>\n",
       "      <td>-1.518882</td>\n",
       "    </tr>\n",
       "    <tr>\n",
       "      <th>Di</th>\n",
       "      <td>1.268360</td>\n",
       "      <td>0.084844</td>\n",
       "      <td>-2.952507</td>\n",
       "    </tr>\n",
       "    <tr>\n",
       "      <th>Bu</th>\n",
       "      <td>0.192596</td>\n",
       "      <td>1.008185</td>\n",
       "      <td>1.611534</td>\n",
       "    </tr>\n",
       "  </tbody>\n",
       "</table>\n",
       "</div>"
      ],
      "text/plain": [
       "              Price       Age      Hour\n",
       "New Index                              \n",
       "At         0.500136 -0.493676  1.318808\n",
       "Me        -1.453791  0.009367 -1.518882\n",
       "Di         1.268360  0.084844 -2.952507\n",
       "Bu         0.192596  1.008185  1.611534"
      ]
     },
     "execution_count": 31,
     "metadata": {},
     "output_type": "execute_result"
    }
   ],
   "source": [
    "newDataFrame.set_index(\"New Index\")"
   ]
  },
  {
   "cell_type": "code",
   "execution_count": 32,
   "id": "e40c815e-ea72-42fa-8bbc-5c5c85eb5265",
   "metadata": {},
   "outputs": [
    {
     "data": {
      "text/html": [
       "<div>\n",
       "<style scoped>\n",
       "    .dataframe tbody tr th:only-of-type {\n",
       "        vertical-align: middle;\n",
       "    }\n",
       "\n",
       "    .dataframe tbody tr th {\n",
       "        vertical-align: top;\n",
       "    }\n",
       "\n",
       "    .dataframe thead th {\n",
       "        text-align: right;\n",
       "    }\n",
       "</style>\n",
       "<table border=\"1\" class=\"dataframe\">\n",
       "  <thead>\n",
       "    <tr style=\"text-align: right;\">\n",
       "      <th></th>\n",
       "      <th>Price</th>\n",
       "      <th>Age</th>\n",
       "      <th>Hour</th>\n",
       "      <th>New Index</th>\n",
       "    </tr>\n",
       "  </thead>\n",
       "  <tbody>\n",
       "    <tr>\n",
       "      <th>Mert</th>\n",
       "      <td>0.500136</td>\n",
       "      <td>-0.493676</td>\n",
       "      <td>1.318808</td>\n",
       "      <td>At</td>\n",
       "    </tr>\n",
       "    <tr>\n",
       "      <th>Elif</th>\n",
       "      <td>-1.453791</td>\n",
       "      <td>0.009367</td>\n",
       "      <td>-1.518882</td>\n",
       "      <td>Me</td>\n",
       "    </tr>\n",
       "    <tr>\n",
       "      <th>Melek</th>\n",
       "      <td>1.268360</td>\n",
       "      <td>0.084844</td>\n",
       "      <td>-2.952507</td>\n",
       "      <td>Di</td>\n",
       "    </tr>\n",
       "    <tr>\n",
       "      <th>Mustafa</th>\n",
       "      <td>0.192596</td>\n",
       "      <td>1.008185</td>\n",
       "      <td>1.611534</td>\n",
       "      <td>Bu</td>\n",
       "    </tr>\n",
       "  </tbody>\n",
       "</table>\n",
       "</div>"
      ],
      "text/plain": [
       "            Price       Age      Hour New Index\n",
       "Mert     0.500136 -0.493676  1.318808        At\n",
       "Elif    -1.453791  0.009367 -1.518882        Me\n",
       "Melek    1.268360  0.084844 -2.952507        Di\n",
       "Mustafa  0.192596  1.008185  1.611534        Bu"
      ]
     },
     "execution_count": 32,
     "metadata": {},
     "output_type": "execute_result"
    }
   ],
   "source": [
    "newDataFrame"
   ]
  },
  {
   "cell_type": "code",
   "execution_count": 33,
   "id": "826aa598-f78a-4c18-9d88-ac012ed12325",
   "metadata": {},
   "outputs": [],
   "source": [
    "newDataFrame.set_index(\"New Index\", inplace = True)"
   ]
  },
  {
   "cell_type": "code",
   "execution_count": 34,
   "id": "e48ca7fa-9e50-4cf9-8a6d-229419b765a0",
   "metadata": {},
   "outputs": [
    {
     "data": {
      "text/html": [
       "<div>\n",
       "<style scoped>\n",
       "    .dataframe tbody tr th:only-of-type {\n",
       "        vertical-align: middle;\n",
       "    }\n",
       "\n",
       "    .dataframe tbody tr th {\n",
       "        vertical-align: top;\n",
       "    }\n",
       "\n",
       "    .dataframe thead th {\n",
       "        text-align: right;\n",
       "    }\n",
       "</style>\n",
       "<table border=\"1\" class=\"dataframe\">\n",
       "  <thead>\n",
       "    <tr style=\"text-align: right;\">\n",
       "      <th></th>\n",
       "      <th>Price</th>\n",
       "      <th>Age</th>\n",
       "      <th>Hour</th>\n",
       "    </tr>\n",
       "    <tr>\n",
       "      <th>New Index</th>\n",
       "      <th></th>\n",
       "      <th></th>\n",
       "      <th></th>\n",
       "    </tr>\n",
       "  </thead>\n",
       "  <tbody>\n",
       "    <tr>\n",
       "      <th>At</th>\n",
       "      <td>0.500136</td>\n",
       "      <td>-0.493676</td>\n",
       "      <td>1.318808</td>\n",
       "    </tr>\n",
       "    <tr>\n",
       "      <th>Me</th>\n",
       "      <td>-1.453791</td>\n",
       "      <td>0.009367</td>\n",
       "      <td>-1.518882</td>\n",
       "    </tr>\n",
       "    <tr>\n",
       "      <th>Di</th>\n",
       "      <td>1.268360</td>\n",
       "      <td>0.084844</td>\n",
       "      <td>-2.952507</td>\n",
       "    </tr>\n",
       "    <tr>\n",
       "      <th>Bu</th>\n",
       "      <td>0.192596</td>\n",
       "      <td>1.008185</td>\n",
       "      <td>1.611534</td>\n",
       "    </tr>\n",
       "  </tbody>\n",
       "</table>\n",
       "</div>"
      ],
      "text/plain": [
       "              Price       Age      Hour\n",
       "New Index                              \n",
       "At         0.500136 -0.493676  1.318808\n",
       "Me        -1.453791  0.009367 -1.518882\n",
       "Di         1.268360  0.084844 -2.952507\n",
       "Bu         0.192596  1.008185  1.611534"
      ]
     },
     "execution_count": 34,
     "metadata": {},
     "output_type": "execute_result"
    }
   ],
   "source": [
    "newDataFrame"
   ]
  },
  {
   "cell_type": "code",
   "execution_count": 36,
   "id": "1beb2533-c400-47b4-8087-201dabe26e26",
   "metadata": {},
   "outputs": [
    {
     "data": {
      "text/plain": [
       "Price   -1.453791\n",
       "Age      0.009367\n",
       "Hour    -1.518882\n",
       "Name: Me, dtype: float64"
      ]
     },
     "execution_count": 36,
     "metadata": {},
     "output_type": "execute_result"
    }
   ],
   "source": [
    "newDataFrame.loc[\"Me\"]"
   ]
  },
  {
   "cell_type": "markdown",
   "id": "89c79245-9b05-4717-bb4f-ba24a64c11c1",
   "metadata": {},
   "source": [
    "## Multi Index"
   ]
  },
  {
   "cell_type": "code",
   "execution_count": 37,
   "id": "eabe0684-a262-4a63-9e27-79cf88e27930",
   "metadata": {},
   "outputs": [],
   "source": [
    "firstIndex = [\"Simpson\", \"Simpson\", \"Simpson\", \"South Park\", \"South Park\", \"South Park\"]"
   ]
  },
  {
   "cell_type": "code",
   "execution_count": 38,
   "id": "6987c993-88b4-46aa-9a02-d9ab3f923043",
   "metadata": {},
   "outputs": [],
   "source": [
    "secondIndex = [\"Homer\", \"Bart\", \"Marge\", \"Cartman\", \"Kenny\", \"Kyle\"]"
   ]
  },
  {
   "cell_type": "code",
   "execution_count": 39,
   "id": "8e792203-89cf-410a-8a01-4b8404aa3d3c",
   "metadata": {},
   "outputs": [],
   "source": [
    "joinedIndex = list(zip(firstIndex, secondIndex))"
   ]
  },
  {
   "cell_type": "code",
   "execution_count": 40,
   "id": "438197cc-fb86-4906-a5d9-a43153b63296",
   "metadata": {},
   "outputs": [
    {
     "data": {
      "text/plain": [
       "[('Simpson', 'Homer'),\n",
       " ('Simpson', 'Bart'),\n",
       " ('Simpson', 'Marge'),\n",
       " ('South Park', 'Cartman'),\n",
       " ('South Park', 'Kenny'),\n",
       " ('South Park', 'Kyle')]"
      ]
     },
     "execution_count": 40,
     "metadata": {},
     "output_type": "execute_result"
    }
   ],
   "source": [
    "joinedIndex"
   ]
  },
  {
   "cell_type": "code",
   "execution_count": 41,
   "id": "8833a696-77e8-429c-8e83-445df4aba336",
   "metadata": {},
   "outputs": [],
   "source": [
    "joinedIndex = pd.MultiIndex.from_tuples(joinedIndex)"
   ]
  },
  {
   "cell_type": "code",
   "execution_count": 42,
   "id": "87d7cc51-e9fd-4d3d-b5c1-8ee5e71c32cb",
   "metadata": {},
   "outputs": [
    {
     "data": {
      "text/plain": [
       "MultiIndex([(   'Simpson',   'Homer'),\n",
       "            (   'Simpson',    'Bart'),\n",
       "            (   'Simpson',   'Marge'),\n",
       "            ('South Park', 'Cartman'),\n",
       "            ('South Park',   'Kenny'),\n",
       "            ('South Park',    'Kyle')],\n",
       "           )"
      ]
     },
     "execution_count": 42,
     "metadata": {},
     "output_type": "execute_result"
    }
   ],
   "source": [
    "joinedIndex"
   ]
  },
  {
   "cell_type": "code",
   "execution_count": 46,
   "id": "ec01606a-8e38-4290-a28c-5de60c14dd57",
   "metadata": {},
   "outputs": [],
   "source": [
    "myCartoonList = [[40, \"A\"], [10, \"B\"], [20, \"C\"], [11, \"F\"], [4, \"D\"], [8, \"G\"]]"
   ]
  },
  {
   "cell_type": "code",
   "execution_count": 47,
   "id": "14f2f65d-dfde-4c5b-8bfc-939b7374030d",
   "metadata": {},
   "outputs": [],
   "source": [
    "cartoonNumpyArray = np.array(myCartoonList)"
   ]
  },
  {
   "cell_type": "code",
   "execution_count": 52,
   "id": "f4ce81d9-9249-4909-98cd-5eb65b719cdc",
   "metadata": {},
   "outputs": [],
   "source": [
    "cartoonDataFrame = pd.DataFrame(cartoonNumpyArray, index = joinedIndex, columns = [\"Age\", \"Job\"])"
   ]
  },
  {
   "cell_type": "code",
   "execution_count": 53,
   "id": "ffb4403b-1a67-4686-a8b3-b31cf96b2735",
   "metadata": {},
   "outputs": [
    {
     "data": {
      "text/html": [
       "<div>\n",
       "<style scoped>\n",
       "    .dataframe tbody tr th:only-of-type {\n",
       "        vertical-align: middle;\n",
       "    }\n",
       "\n",
       "    .dataframe tbody tr th {\n",
       "        vertical-align: top;\n",
       "    }\n",
       "\n",
       "    .dataframe thead th {\n",
       "        text-align: right;\n",
       "    }\n",
       "</style>\n",
       "<table border=\"1\" class=\"dataframe\">\n",
       "  <thead>\n",
       "    <tr style=\"text-align: right;\">\n",
       "      <th></th>\n",
       "      <th></th>\n",
       "      <th>Age</th>\n",
       "      <th>Job</th>\n",
       "    </tr>\n",
       "  </thead>\n",
       "  <tbody>\n",
       "    <tr>\n",
       "      <th rowspan=\"3\" valign=\"top\">Simpson</th>\n",
       "      <th>Homer</th>\n",
       "      <td>40</td>\n",
       "      <td>A</td>\n",
       "    </tr>\n",
       "    <tr>\n",
       "      <th>Bart</th>\n",
       "      <td>10</td>\n",
       "      <td>B</td>\n",
       "    </tr>\n",
       "    <tr>\n",
       "      <th>Marge</th>\n",
       "      <td>20</td>\n",
       "      <td>C</td>\n",
       "    </tr>\n",
       "    <tr>\n",
       "      <th rowspan=\"3\" valign=\"top\">South Park</th>\n",
       "      <th>Cartman</th>\n",
       "      <td>11</td>\n",
       "      <td>F</td>\n",
       "    </tr>\n",
       "    <tr>\n",
       "      <th>Kenny</th>\n",
       "      <td>4</td>\n",
       "      <td>D</td>\n",
       "    </tr>\n",
       "    <tr>\n",
       "      <th>Kyle</th>\n",
       "      <td>8</td>\n",
       "      <td>G</td>\n",
       "    </tr>\n",
       "  </tbody>\n",
       "</table>\n",
       "</div>"
      ],
      "text/plain": [
       "                   Age Job\n",
       "Simpson    Homer    40   A\n",
       "           Bart     10   B\n",
       "           Marge    20   C\n",
       "South Park Cartman  11   F\n",
       "           Kenny     4   D\n",
       "           Kyle      8   G"
      ]
     },
     "execution_count": 53,
     "metadata": {},
     "output_type": "execute_result"
    }
   ],
   "source": [
    "cartoonDataFrame"
   ]
  },
  {
   "cell_type": "code",
   "execution_count": 54,
   "id": "ab73c95b-13f6-47b6-a83e-ce798258b5d8",
   "metadata": {},
   "outputs": [
    {
     "data": {
      "text/html": [
       "<div>\n",
       "<style scoped>\n",
       "    .dataframe tbody tr th:only-of-type {\n",
       "        vertical-align: middle;\n",
       "    }\n",
       "\n",
       "    .dataframe tbody tr th {\n",
       "        vertical-align: top;\n",
       "    }\n",
       "\n",
       "    .dataframe thead th {\n",
       "        text-align: right;\n",
       "    }\n",
       "</style>\n",
       "<table border=\"1\" class=\"dataframe\">\n",
       "  <thead>\n",
       "    <tr style=\"text-align: right;\">\n",
       "      <th></th>\n",
       "      <th>Age</th>\n",
       "      <th>Job</th>\n",
       "    </tr>\n",
       "  </thead>\n",
       "  <tbody>\n",
       "    <tr>\n",
       "      <th>Homer</th>\n",
       "      <td>40</td>\n",
       "      <td>A</td>\n",
       "    </tr>\n",
       "    <tr>\n",
       "      <th>Bart</th>\n",
       "      <td>10</td>\n",
       "      <td>B</td>\n",
       "    </tr>\n",
       "    <tr>\n",
       "      <th>Marge</th>\n",
       "      <td>20</td>\n",
       "      <td>C</td>\n",
       "    </tr>\n",
       "  </tbody>\n",
       "</table>\n",
       "</div>"
      ],
      "text/plain": [
       "      Age Job\n",
       "Homer  40   A\n",
       "Bart   10   B\n",
       "Marge  20   C"
      ]
     },
     "execution_count": 54,
     "metadata": {},
     "output_type": "execute_result"
    }
   ],
   "source": [
    "cartoonDataFrame.loc[\"Simpson\"]"
   ]
  },
  {
   "cell_type": "code",
   "execution_count": 57,
   "id": "7deedebb-633c-44cd-bd61-725d3fbdfae3",
   "metadata": {},
   "outputs": [
    {
     "data": {
      "text/plain": [
       "Age    4\n",
       "Job    D\n",
       "Name: Kenny, dtype: object"
      ]
     },
     "execution_count": 57,
     "metadata": {},
     "output_type": "execute_result"
    }
   ],
   "source": [
    "cartoonDataFrame.loc[\"South Park\"].loc[\"Kenny\"]"
   ]
  },
  {
   "cell_type": "code",
   "execution_count": null,
   "id": "a11dc7f7-d5de-48b0-ae78-606e2e70f06c",
   "metadata": {},
   "outputs": [],
   "source": []
  }
 ],
 "metadata": {
  "kernelspec": {
   "display_name": "Python 3 (ipykernel)",
   "language": "python",
   "name": "python3"
  },
  "language_info": {
   "codemirror_mode": {
    "name": "ipython",
    "version": 3
   },
   "file_extension": ".py",
   "mimetype": "text/x-python",
   "name": "python",
   "nbconvert_exporter": "python",
   "pygments_lexer": "ipython3",
   "version": "3.11.7"
  }
 },
 "nbformat": 4,
 "nbformat_minor": 5
}
