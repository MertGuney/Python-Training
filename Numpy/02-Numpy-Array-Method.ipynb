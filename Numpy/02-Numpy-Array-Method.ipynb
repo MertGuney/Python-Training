{
 "cells": [
  {
   "cell_type": "markdown",
   "id": "3960cd90-5245-4b59-97ff-1de4a06519d7",
   "metadata": {},
   "source": [
    "## Numpy Dizi Metodlari"
   ]
  },
  {
   "cell_type": "code",
   "execution_count": 2,
   "id": "e63cd98a-43b0-48b5-9eb3-3880219e56a0",
   "metadata": {},
   "outputs": [],
   "source": [
    "import numpy as np"
   ]
  },
  {
   "cell_type": "code",
   "execution_count": 3,
   "id": "23f75d2c-af52-4726-9ec8-06edec849267",
   "metadata": {},
   "outputs": [],
   "source": [
    "numpyArray = np.arange(30)"
   ]
  },
  {
   "cell_type": "code",
   "execution_count": 9,
   "id": "df46d47a-93af-429d-a8cb-b7266397daa8",
   "metadata": {},
   "outputs": [
    {
     "data": {
      "text/plain": [
       "array([[ 0,  1,  2,  3,  4],\n",
       "       [ 5,  6,  7,  8,  9],\n",
       "       [10, 11, 12, 13, 14],\n",
       "       [15, 16, 17, 18, 19],\n",
       "       [20, 21, 22, 23, 24],\n",
       "       [25, 26, 27, 28, 29]])"
      ]
     },
     "execution_count": 9,
     "metadata": {},
     "output_type": "execute_result"
    }
   ],
   "source": [
    "numpyArray.reshape(6,5)"
   ]
  },
  {
   "cell_type": "code",
   "execution_count": 10,
   "id": "f2b1afa0-3a1a-4275-90f6-1f5d74613224",
   "metadata": {},
   "outputs": [
    {
     "data": {
      "text/plain": [
       "29"
      ]
     },
     "execution_count": 10,
     "metadata": {},
     "output_type": "execute_result"
    }
   ],
   "source": [
    "numpyArray.max()"
   ]
  },
  {
   "cell_type": "code",
   "execution_count": 11,
   "id": "ce27ff49-8dcf-4eea-86e0-7f0cbdf7d629",
   "metadata": {},
   "outputs": [
    {
     "data": {
      "text/plain": [
       "0"
      ]
     },
     "execution_count": 11,
     "metadata": {},
     "output_type": "execute_result"
    }
   ],
   "source": [
    "numpyArray.min()"
   ]
  },
  {
   "cell_type": "code",
   "execution_count": 12,
   "id": "c091a08d-284b-452c-8b58-37b57bc8bc99",
   "metadata": {},
   "outputs": [
    {
     "data": {
      "text/plain": [
       "29"
      ]
     },
     "execution_count": 12,
     "metadata": {},
     "output_type": "execute_result"
    }
   ],
   "source": [
    "numpyArray.argmax()"
   ]
  },
  {
   "cell_type": "code",
   "execution_count": 13,
   "id": "42ab436e-b575-42d5-814d-db29711a6758",
   "metadata": {},
   "outputs": [
    {
     "data": {
      "text/plain": [
       "0"
      ]
     },
     "execution_count": 13,
     "metadata": {},
     "output_type": "execute_result"
    }
   ],
   "source": [
    "numpyArray.argmin()"
   ]
  },
  {
   "cell_type": "code",
   "execution_count": 14,
   "id": "95227d04-1f5e-4986-91e8-6aa938e1748a",
   "metadata": {},
   "outputs": [
    {
     "data": {
      "text/plain": [
       "(30,)"
      ]
     },
     "execution_count": 14,
     "metadata": {},
     "output_type": "execute_result"
    }
   ],
   "source": [
    "numpyArray.shape"
   ]
  },
  {
   "cell_type": "code",
   "execution_count": null,
   "id": "5d39d5d0-224c-4ace-896a-f5868c2405c7",
   "metadata": {},
   "outputs": [],
   "source": []
  }
 ],
 "metadata": {
  "kernelspec": {
   "display_name": "Python 3 (ipykernel)",
   "language": "python",
   "name": "python3"
  },
  "language_info": {
   "codemirror_mode": {
    "name": "ipython",
    "version": 3
   },
   "file_extension": ".py",
   "mimetype": "text/x-python",
   "name": "python",
   "nbconvert_exporter": "python",
   "pygments_lexer": "ipython3",
   "version": "3.11.7"
  }
 },
 "nbformat": 4,
 "nbformat_minor": 5
}
