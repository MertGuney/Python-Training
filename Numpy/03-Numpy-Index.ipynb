{
 "cells": [
  {
   "cell_type": "code",
   "execution_count": 36,
   "id": "a25d1f57-574b-4dfc-bffe-a665d48caf93",
   "metadata": {},
   "outputs": [],
   "source": [
    "import numpy as np"
   ]
  },
  {
   "cell_type": "code",
   "execution_count": 37,
   "id": "e96b3f9f-902b-4407-aa66-81ef4eac5eba",
   "metadata": {},
   "outputs": [],
   "source": [
    "myArray = np.arange(0,15)"
   ]
  },
  {
   "cell_type": "code",
   "execution_count": 38,
   "id": "a3f512dc-6210-4a93-9a97-d98bc3f18300",
   "metadata": {},
   "outputs": [
    {
     "data": {
      "text/plain": [
       "array([ 0,  1,  2,  3,  4,  5,  6,  7,  8,  9, 10, 11, 12, 13, 14])"
      ]
     },
     "execution_count": 38,
     "metadata": {},
     "output_type": "execute_result"
    }
   ],
   "source": [
    "myArray"
   ]
  },
  {
   "cell_type": "code",
   "execution_count": 39,
   "id": "fa52a4f7-7f38-47ed-b63f-0eb1ae150942",
   "metadata": {},
   "outputs": [
    {
     "data": {
      "text/plain": [
       "5"
      ]
     },
     "execution_count": 39,
     "metadata": {},
     "output_type": "execute_result"
    }
   ],
   "source": [
    "myArray[5]"
   ]
  },
  {
   "cell_type": "code",
   "execution_count": 40,
   "id": "53d4ff43-b7ab-4935-a3d7-df3ecd392dea",
   "metadata": {},
   "outputs": [
    {
     "data": {
      "text/plain": [
       "array([3, 4])"
      ]
     },
     "execution_count": 40,
     "metadata": {},
     "output_type": "execute_result"
    }
   ],
   "source": [
    "myArray[3:5]"
   ]
  },
  {
   "cell_type": "code",
   "execution_count": 41,
   "id": "67d47b4a-2133-484f-b9fb-739ae7a1b799",
   "metadata": {},
   "outputs": [],
   "source": [
    "myArray[3:8] = -5"
   ]
  },
  {
   "cell_type": "code",
   "execution_count": 42,
   "id": "0d5df083-8481-4b93-8615-7d036a604bce",
   "metadata": {},
   "outputs": [
    {
     "data": {
      "text/plain": [
       "array([ 0,  1,  2, -5, -5, -5, -5, -5,  8,  9, 10, 11, 12, 13, 14])"
      ]
     },
     "execution_count": 42,
     "metadata": {},
     "output_type": "execute_result"
    }
   ],
   "source": [
    "myArray"
   ]
  },
  {
   "cell_type": "code",
   "execution_count": 43,
   "id": "dc8e47e7-9728-4983-9402-6ad16d2f0830",
   "metadata": {},
   "outputs": [],
   "source": [
    "otherArray = np.arange(0,24)"
   ]
  },
  {
   "cell_type": "code",
   "execution_count": 44,
   "id": "101ca260-1af7-4a55-b4c6-5009003d1a56",
   "metadata": {},
   "outputs": [
    {
     "data": {
      "text/plain": [
       "array([ 0,  1,  2,  3,  4,  5,  6,  7,  8,  9, 10, 11, 12, 13, 14, 15, 16,\n",
       "       17, 18, 19, 20, 21, 22, 23])"
      ]
     },
     "execution_count": 44,
     "metadata": {},
     "output_type": "execute_result"
    }
   ],
   "source": [
    "otherArray"
   ]
  },
  {
   "cell_type": "code",
   "execution_count": 45,
   "id": "74ac3ca4-38e5-4fb2-8080-ac85bf9cef36",
   "metadata": {},
   "outputs": [],
   "source": [
    "slicingArray = otherArray[4:9]"
   ]
  },
  {
   "cell_type": "code",
   "execution_count": 46,
   "id": "850f4418-6b82-44ff-81bc-bf41a892741b",
   "metadata": {},
   "outputs": [],
   "source": [
    "slicingArray[:] = 700"
   ]
  },
  {
   "cell_type": "code",
   "execution_count": 47,
   "id": "95bb8cd2-a12d-4b8d-ba62-9c56f85e93f2",
   "metadata": {},
   "outputs": [
    {
     "data": {
      "text/plain": [
       "array([700, 700, 700, 700, 700])"
      ]
     },
     "execution_count": 47,
     "metadata": {},
     "output_type": "execute_result"
    }
   ],
   "source": [
    "slicingArray"
   ]
  },
  {
   "cell_type": "code",
   "execution_count": 48,
   "id": "d189c109-5941-463a-8284-6c1fb26569b3",
   "metadata": {},
   "outputs": [
    {
     "data": {
      "text/plain": [
       "array([ 0,  1,  2, -5, -5, -5, -5, -5,  8,  9, 10, 11, 12, 13, 14])"
      ]
     },
     "execution_count": 48,
     "metadata": {},
     "output_type": "execute_result"
    }
   ],
   "source": [
    "myArray"
   ]
  },
  {
   "cell_type": "code",
   "execution_count": 49,
   "id": "0a00a46a-dd84-435f-ab7e-b1d861c6da50",
   "metadata": {},
   "outputs": [],
   "source": [
    "slicingArray = 700"
   ]
  },
  {
   "cell_type": "code",
   "execution_count": 50,
   "id": "dd260465-0fd7-4ec9-b894-c05322e86872",
   "metadata": {},
   "outputs": [
    {
     "data": {
      "text/plain": [
       "700"
      ]
     },
     "execution_count": 50,
     "metadata": {},
     "output_type": "execute_result"
    }
   ],
   "source": [
    "slicingArray"
   ]
  },
  {
   "cell_type": "code",
   "execution_count": 51,
   "id": "c45f26ad-83c7-46b5-a44d-51a19e188fe9",
   "metadata": {},
   "outputs": [],
   "source": [
    "otherArray = np.arange(0,24)"
   ]
  },
  {
   "cell_type": "code",
   "execution_count": 52,
   "id": "fa8f4e93-42fc-48e0-9ac4-22c9cdf4c29b",
   "metadata": {},
   "outputs": [],
   "source": [
    "otherArrayCopy = otherArray.copy()"
   ]
  },
  {
   "cell_type": "code",
   "execution_count": 53,
   "id": "c7943261-0895-4596-93bd-51bd8fdb8f1d",
   "metadata": {},
   "outputs": [
    {
     "data": {
      "text/plain": [
       "array([ 0,  1,  2,  3,  4,  5,  6,  7,  8,  9, 10, 11, 12, 13, 14, 15, 16,\n",
       "       17, 18, 19, 20, 21, 22, 23])"
      ]
     },
     "execution_count": 53,
     "metadata": {},
     "output_type": "execute_result"
    }
   ],
   "source": [
    "otherArray"
   ]
  },
  {
   "cell_type": "code",
   "execution_count": 54,
   "id": "15090174-02ef-4515-8979-9858068302b6",
   "metadata": {},
   "outputs": [
    {
     "data": {
      "text/plain": [
       "array([ 0,  1,  2,  3,  4,  5,  6,  7,  8,  9, 10, 11, 12, 13, 14, 15, 16,\n",
       "       17, 18, 19, 20, 21, 22, 23])"
      ]
     },
     "execution_count": 54,
     "metadata": {},
     "output_type": "execute_result"
    }
   ],
   "source": [
    "otherArrayCopy"
   ]
  },
  {
   "cell_type": "code",
   "execution_count": 55,
   "id": "99e043a9-91a2-456a-8e2a-c81e9cd5a91a",
   "metadata": {},
   "outputs": [],
   "source": [
    "otherArrayCopySlicing = otherArrayCopy[3:6]"
   ]
  },
  {
   "cell_type": "code",
   "execution_count": 56,
   "id": "1e452bf9-5963-460f-884d-946ab3b72adf",
   "metadata": {},
   "outputs": [],
   "source": [
    "otherArrayCopySlicing[:] = 800"
   ]
  },
  {
   "cell_type": "code",
   "execution_count": 57,
   "id": "b0476bbf-38ec-4424-8b9c-87560d78a92d",
   "metadata": {},
   "outputs": [
    {
     "data": {
      "text/plain": [
       "array([800, 800, 800])"
      ]
     },
     "execution_count": 57,
     "metadata": {},
     "output_type": "execute_result"
    }
   ],
   "source": [
    "otherArrayCopySlicing"
   ]
  },
  {
   "cell_type": "code",
   "execution_count": 58,
   "id": "441de97c-c275-4e3f-a9b8-b06266c31f75",
   "metadata": {},
   "outputs": [
    {
     "data": {
      "text/plain": [
       "array([ 0,  1,  2,  3,  4,  5,  6,  7,  8,  9, 10, 11, 12, 13, 14, 15, 16,\n",
       "       17, 18, 19, 20, 21, 22, 23])"
      ]
     },
     "execution_count": 58,
     "metadata": {},
     "output_type": "execute_result"
    }
   ],
   "source": [
    "otherArray"
   ]
  },
  {
   "cell_type": "code",
   "execution_count": 59,
   "id": "b625863b-f6f5-4d44-986a-4b53015772b5",
   "metadata": {},
   "outputs": [
    {
     "data": {
      "text/plain": [
       "array([  0,   1,   2, 800, 800, 800,   6,   7,   8,   9,  10,  11,  12,\n",
       "        13,  14,  15,  16,  17,  18,  19,  20,  21,  22,  23])"
      ]
     },
     "execution_count": 59,
     "metadata": {},
     "output_type": "execute_result"
    }
   ],
   "source": [
    "otherArrayCopy"
   ]
  },
  {
   "cell_type": "code",
   "execution_count": null,
   "id": "598c5e15-ec0f-461f-a6dd-ad35a1abd1b7",
   "metadata": {},
   "outputs": [],
   "source": []
  }
 ],
 "metadata": {
  "kernelspec": {
   "display_name": "Python 3 (ipykernel)",
   "language": "python",
   "name": "python3"
  },
  "language_info": {
   "codemirror_mode": {
    "name": "ipython",
    "version": 3
   },
   "file_extension": ".py",
   "mimetype": "text/x-python",
   "name": "python",
   "nbconvert_exporter": "python",
   "pygments_lexer": "ipython3",
   "version": "3.11.7"
  }
 },
 "nbformat": 4,
 "nbformat_minor": 5
}
