{
 "cells": [
  {
   "cell_type": "code",
   "execution_count": 1,
   "id": "ff65c3d8-9769-48cd-9d12-bf2981a16832",
   "metadata": {},
   "outputs": [],
   "source": [
    "import numpy as np"
   ]
  },
  {
   "cell_type": "markdown",
   "id": "e4b2172c-363f-4459-91d1-fcc6d52cc79e",
   "metadata": {},
   "source": [
    "## Matrix"
   ]
  },
  {
   "cell_type": "code",
   "execution_count": 2,
   "id": "cdaf3d06-68cd-4876-ae20-2b777e5933f5",
   "metadata": {},
   "outputs": [],
   "source": [
    "myList = [[10,20,30],[40,50,60],[70,80,90]]"
   ]
  },
  {
   "cell_type": "code",
   "execution_count": 3,
   "id": "12f31b9f-c6ef-4980-972e-8ca9ec0c1651",
   "metadata": {},
   "outputs": [],
   "source": [
    "myMatrixArray = np.array(myList)"
   ]
  },
  {
   "cell_type": "code",
   "execution_count": 4,
   "id": "a60e52a0-18e0-486a-8ca7-8494f4fe98c2",
   "metadata": {},
   "outputs": [
    {
     "data": {
      "text/plain": [
       "array([[10, 20, 30],\n",
       "       [40, 50, 60],\n",
       "       [70, 80, 90]])"
      ]
     },
     "execution_count": 4,
     "metadata": {},
     "output_type": "execute_result"
    }
   ],
   "source": [
    "myMatrixArray"
   ]
  },
  {
   "cell_type": "code",
   "execution_count": 5,
   "id": "87ad6497-fb3a-40a0-aec2-18e5b2075b93",
   "metadata": {},
   "outputs": [
    {
     "data": {
      "text/plain": [
       "array([10, 20, 30])"
      ]
     },
     "execution_count": 5,
     "metadata": {},
     "output_type": "execute_result"
    }
   ],
   "source": [
    "myMatrixArray[0]"
   ]
  },
  {
   "cell_type": "code",
   "execution_count": 6,
   "id": "a1c2d611-0847-4ad9-be28-0ee7a88e2df6",
   "metadata": {},
   "outputs": [
    {
     "data": {
      "text/plain": [
       "60"
      ]
     },
     "execution_count": 6,
     "metadata": {},
     "output_type": "execute_result"
    }
   ],
   "source": [
    "myMatrixArray[1][2]"
   ]
  },
  {
   "cell_type": "code",
   "execution_count": 7,
   "id": "bbc41af2-3e02-4053-8a93-769c2043415f",
   "metadata": {},
   "outputs": [
    {
     "data": {
      "text/plain": [
       "60"
      ]
     },
     "execution_count": 7,
     "metadata": {},
     "output_type": "execute_result"
    }
   ],
   "source": [
    "myMatrixArray[1,2]"
   ]
  },
  {
   "cell_type": "code",
   "execution_count": 8,
   "id": "adb7ec4c-eed1-416e-b48d-7429c834a7cf",
   "metadata": {},
   "outputs": [
    {
     "data": {
      "text/plain": [
       "array([60, 90])"
      ]
     },
     "execution_count": 8,
     "metadata": {},
     "output_type": "execute_result"
    }
   ],
   "source": [
    "myMatrixArray[1:,2]"
   ]
  },
  {
   "cell_type": "code",
   "execution_count": 9,
   "id": "04746171-a7b6-482b-a619-22d3bbb9240c",
   "metadata": {},
   "outputs": [
    {
     "data": {
      "text/plain": [
       "array([30, 60, 90])"
      ]
     },
     "execution_count": 9,
     "metadata": {},
     "output_type": "execute_result"
    }
   ],
   "source": [
    "myMatrixArray[0:,2]"
   ]
  },
  {
   "cell_type": "code",
   "execution_count": 10,
   "id": "ac78f78b-c5fd-4e73-aedd-42e9c62b48bf",
   "metadata": {},
   "outputs": [
    {
     "data": {
      "text/plain": [
       "array([[20, 30],\n",
       "       [50, 60],\n",
       "       [80, 90]])"
      ]
     },
     "execution_count": 10,
     "metadata": {},
     "output_type": "execute_result"
    }
   ],
   "source": [
    "myMatrixArray[0:,1:]"
   ]
  },
  {
   "cell_type": "code",
   "execution_count": 18,
   "id": "d9f201f3-03fa-43f3-bd40-20da44125134",
   "metadata": {},
   "outputs": [],
   "source": [
    "newList = [[1,2,3,4,5],[6,7,8,9,10],[11,12,13,14,15],[16,17,18,19,20],[21,22,23,24,25]]"
   ]
  },
  {
   "cell_type": "code",
   "execution_count": 19,
   "id": "8af28886-44f9-4ab4-95e9-94b20dc2c456",
   "metadata": {},
   "outputs": [],
   "source": [
    "newMatrix = np.array(newList)"
   ]
  },
  {
   "cell_type": "code",
   "execution_count": 20,
   "id": "2ec6e27b-939f-47b1-9157-94b703b78088",
   "metadata": {},
   "outputs": [
    {
     "data": {
      "text/plain": [
       "array([[ 1,  2,  3,  4,  5],\n",
       "       [ 6,  7,  8,  9, 10],\n",
       "       [11, 12, 13, 14, 15],\n",
       "       [16, 17, 18, 19, 20],\n",
       "       [21, 22, 23, 24, 25]])"
      ]
     },
     "execution_count": 20,
     "metadata": {},
     "output_type": "execute_result"
    }
   ],
   "source": [
    " newMatrix"
   ]
  },
  {
   "cell_type": "code",
   "execution_count": 22,
   "id": "e251325d-6c57-4a1a-8100-529b338294b5",
   "metadata": {},
   "outputs": [
    {
     "data": {
      "text/plain": [
       "array([[ 1,  2,  3,  4,  5],\n",
       "       [11, 12, 13, 14, 15],\n",
       "       [21, 22, 23, 24, 25]])"
      ]
     },
     "execution_count": 22,
     "metadata": {},
     "output_type": "execute_result"
    }
   ],
   "source": [
    "newMatrix[[0,2,4]]"
   ]
  },
  {
   "cell_type": "code",
   "execution_count": null,
   "id": "290ade02-a201-4baa-a7bc-c52d9080ead3",
   "metadata": {},
   "outputs": [],
   "source": []
  }
 ],
 "metadata": {
  "kernelspec": {
   "display_name": "Python 3 (ipykernel)",
   "language": "python",
   "name": "python3"
  },
  "language_info": {
   "codemirror_mode": {
    "name": "ipython",
    "version": 3
   },
   "file_extension": ".py",
   "mimetype": "text/x-python",
   "name": "python",
   "nbconvert_exporter": "python",
   "pygments_lexer": "ipython3",
   "version": "3.11.7"
  }
 },
 "nbformat": 4,
 "nbformat_minor": 5
}
