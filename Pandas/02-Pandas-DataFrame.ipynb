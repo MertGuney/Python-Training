{
 "cells": [
  {
   "cell_type": "code",
   "execution_count": 1,
   "id": "4dc189c2-9afa-4651-9834-35c81cf65846",
   "metadata": {},
   "outputs": [],
   "source": [
    "import pandas as pd\n",
    "import numpy as np"
   ]
  },
  {
   "cell_type": "code",
   "execution_count": 3,
   "id": "33b95922-011e-4da4-bd2b-de9b83d26416",
   "metadata": {},
   "outputs": [],
   "source": [
    "data = np.random.randn(4,3)"
   ]
  },
  {
   "cell_type": "code",
   "execution_count": 4,
   "id": "5e4b5104-dd7c-4862-bf46-d096fa070c5c",
   "metadata": {},
   "outputs": [
    {
     "data": {
      "text/plain": [
       "array([[ 0.83015307,  0.41210866, -1.00931821],\n",
       "       [-0.00840904, -0.43658681,  0.82872254],\n",
       "       [-0.24311025, -0.81062433,  0.82737694],\n",
       "       [-0.09095551,  0.93196837, -1.40198441]])"
      ]
     },
     "execution_count": 4,
     "metadata": {},
     "output_type": "execute_result"
    }
   ],
   "source": [
    "data"
   ]
  },
  {
   "cell_type": "code",
   "execution_count": 5,
   "id": "3a455736-da27-47fa-b984-b5b308353c88",
   "metadata": {},
   "outputs": [],
   "source": [
    "dataFrame = pd.DataFrame(data)"
   ]
  },
  {
   "cell_type": "code",
   "execution_count": 6,
   "id": "b162e7ed-de8f-49fc-bef1-43f0bea4471f",
   "metadata": {},
   "outputs": [
    {
     "data": {
      "text/html": [
       "<div>\n",
       "<style scoped>\n",
       "    .dataframe tbody tr th:only-of-type {\n",
       "        vertical-align: middle;\n",
       "    }\n",
       "\n",
       "    .dataframe tbody tr th {\n",
       "        vertical-align: top;\n",
       "    }\n",
       "\n",
       "    .dataframe thead th {\n",
       "        text-align: right;\n",
       "    }\n",
       "</style>\n",
       "<table border=\"1\" class=\"dataframe\">\n",
       "  <thead>\n",
       "    <tr style=\"text-align: right;\">\n",
       "      <th></th>\n",
       "      <th>0</th>\n",
       "      <th>1</th>\n",
       "      <th>2</th>\n",
       "    </tr>\n",
       "  </thead>\n",
       "  <tbody>\n",
       "    <tr>\n",
       "      <th>0</th>\n",
       "      <td>0.830153</td>\n",
       "      <td>0.412109</td>\n",
       "      <td>-1.009318</td>\n",
       "    </tr>\n",
       "    <tr>\n",
       "      <th>1</th>\n",
       "      <td>-0.008409</td>\n",
       "      <td>-0.436587</td>\n",
       "      <td>0.828723</td>\n",
       "    </tr>\n",
       "    <tr>\n",
       "      <th>2</th>\n",
       "      <td>-0.243110</td>\n",
       "      <td>-0.810624</td>\n",
       "      <td>0.827377</td>\n",
       "    </tr>\n",
       "    <tr>\n",
       "      <th>3</th>\n",
       "      <td>-0.090956</td>\n",
       "      <td>0.931968</td>\n",
       "      <td>-1.401984</td>\n",
       "    </tr>\n",
       "  </tbody>\n",
       "</table>\n",
       "</div>"
      ],
      "text/plain": [
       "          0         1         2\n",
       "0  0.830153  0.412109 -1.009318\n",
       "1 -0.008409 -0.436587  0.828723\n",
       "2 -0.243110 -0.810624  0.827377\n",
       "3 -0.090956  0.931968 -1.401984"
      ]
     },
     "execution_count": 6,
     "metadata": {},
     "output_type": "execute_result"
    }
   ],
   "source": [
    "dataFrame"
   ]
  },
  {
   "cell_type": "code",
   "execution_count": 7,
   "id": "78ed5730-22bf-4f23-8c0b-b1d380f115f2",
   "metadata": {},
   "outputs": [
    {
     "data": {
      "text/plain": [
       "0    0.830153\n",
       "1   -0.008409\n",
       "2   -0.243110\n",
       "3   -0.090956\n",
       "Name: 0, dtype: float64"
      ]
     },
     "execution_count": 7,
     "metadata": {},
     "output_type": "execute_result"
    }
   ],
   "source": [
    "dataFrame[0]"
   ]
  },
  {
   "cell_type": "code",
   "execution_count": 9,
   "id": "311cdd7d-9979-4b8c-a004-bab7f9c8973e",
   "metadata": {},
   "outputs": [],
   "source": [
    "newDataFrame = pd.DataFrame(data,index=[\"Mert\",\"Elif\",\"Melek\",\"Mustafa\"],columns = [\"Price\",\"Age\",\"Hour\"])"
   ]
  },
  {
   "cell_type": "code",
   "execution_count": 10,
   "id": "b6e9efd9-bfa3-43ee-b1d6-af9327338b77",
   "metadata": {},
   "outputs": [
    {
     "data": {
      "text/html": [
       "<div>\n",
       "<style scoped>\n",
       "    .dataframe tbody tr th:only-of-type {\n",
       "        vertical-align: middle;\n",
       "    }\n",
       "\n",
       "    .dataframe tbody tr th {\n",
       "        vertical-align: top;\n",
       "    }\n",
       "\n",
       "    .dataframe thead th {\n",
       "        text-align: right;\n",
       "    }\n",
       "</style>\n",
       "<table border=\"1\" class=\"dataframe\">\n",
       "  <thead>\n",
       "    <tr style=\"text-align: right;\">\n",
       "      <th></th>\n",
       "      <th>Price</th>\n",
       "      <th>Age</th>\n",
       "      <th>Hour</th>\n",
       "    </tr>\n",
       "  </thead>\n",
       "  <tbody>\n",
       "    <tr>\n",
       "      <th>Mert</th>\n",
       "      <td>0.830153</td>\n",
       "      <td>0.412109</td>\n",
       "      <td>-1.009318</td>\n",
       "    </tr>\n",
       "    <tr>\n",
       "      <th>Elif</th>\n",
       "      <td>-0.008409</td>\n",
       "      <td>-0.436587</td>\n",
       "      <td>0.828723</td>\n",
       "    </tr>\n",
       "    <tr>\n",
       "      <th>Melek</th>\n",
       "      <td>-0.243110</td>\n",
       "      <td>-0.810624</td>\n",
       "      <td>0.827377</td>\n",
       "    </tr>\n",
       "    <tr>\n",
       "      <th>Mustafa</th>\n",
       "      <td>-0.090956</td>\n",
       "      <td>0.931968</td>\n",
       "      <td>-1.401984</td>\n",
       "    </tr>\n",
       "  </tbody>\n",
       "</table>\n",
       "</div>"
      ],
      "text/plain": [
       "            Price       Age      Hour\n",
       "Mert     0.830153  0.412109 -1.009318\n",
       "Elif    -0.008409 -0.436587  0.828723\n",
       "Melek   -0.243110 -0.810624  0.827377\n",
       "Mustafa -0.090956  0.931968 -1.401984"
      ]
     },
     "execution_count": 10,
     "metadata": {},
     "output_type": "execute_result"
    }
   ],
   "source": [
    "newDataFrame"
   ]
  },
  {
   "cell_type": "code",
   "execution_count": 11,
   "id": "64196eb7-6346-4e9f-b171-e7bdd2885c60",
   "metadata": {},
   "outputs": [
    {
     "data": {
      "text/plain": [
       "Mert       0.412109\n",
       "Elif      -0.436587\n",
       "Melek     -0.810624\n",
       "Mustafa    0.931968\n",
       "Name: Age, dtype: float64"
      ]
     },
     "execution_count": 11,
     "metadata": {},
     "output_type": "execute_result"
    }
   ],
   "source": [
    "newDataFrame[\"Age\"]"
   ]
  },
  {
   "cell_type": "code",
   "execution_count": 12,
   "id": "518ec6d3-6695-4939-aaf3-d285f1873048",
   "metadata": {},
   "outputs": [
    {
     "data": {
      "text/html": [
       "<div>\n",
       "<style scoped>\n",
       "    .dataframe tbody tr th:only-of-type {\n",
       "        vertical-align: middle;\n",
       "    }\n",
       "\n",
       "    .dataframe tbody tr th {\n",
       "        vertical-align: top;\n",
       "    }\n",
       "\n",
       "    .dataframe thead th {\n",
       "        text-align: right;\n",
       "    }\n",
       "</style>\n",
       "<table border=\"1\" class=\"dataframe\">\n",
       "  <thead>\n",
       "    <tr style=\"text-align: right;\">\n",
       "      <th></th>\n",
       "      <th>Price</th>\n",
       "      <th>Age</th>\n",
       "    </tr>\n",
       "  </thead>\n",
       "  <tbody>\n",
       "    <tr>\n",
       "      <th>Mert</th>\n",
       "      <td>0.830153</td>\n",
       "      <td>0.412109</td>\n",
       "    </tr>\n",
       "    <tr>\n",
       "      <th>Elif</th>\n",
       "      <td>-0.008409</td>\n",
       "      <td>-0.436587</td>\n",
       "    </tr>\n",
       "    <tr>\n",
       "      <th>Melek</th>\n",
       "      <td>-0.243110</td>\n",
       "      <td>-0.810624</td>\n",
       "    </tr>\n",
       "    <tr>\n",
       "      <th>Mustafa</th>\n",
       "      <td>-0.090956</td>\n",
       "      <td>0.931968</td>\n",
       "    </tr>\n",
       "  </tbody>\n",
       "</table>\n",
       "</div>"
      ],
      "text/plain": [
       "            Price       Age\n",
       "Mert     0.830153  0.412109\n",
       "Elif    -0.008409 -0.436587\n",
       "Melek   -0.243110 -0.810624\n",
       "Mustafa -0.090956  0.931968"
      ]
     },
     "execution_count": 12,
     "metadata": {},
     "output_type": "execute_result"
    }
   ],
   "source": [
    "newDataFrame[[\"Price\",\"Age\"]]"
   ]
  },
  {
   "cell_type": "code",
   "execution_count": 13,
   "id": "00d0e000-6683-4851-938e-93d515a0e00e",
   "metadata": {},
   "outputs": [
    {
     "data": {
      "text/plain": [
       "Price    0.830153\n",
       "Age      0.412109\n",
       "Hour    -1.009318\n",
       "Name: Mert, dtype: float64"
      ]
     },
     "execution_count": 13,
     "metadata": {},
     "output_type": "execute_result"
    }
   ],
   "source": [
    "newDataFrame.loc[\"Mert\"]"
   ]
  },
  {
   "cell_type": "code",
   "execution_count": 15,
   "id": "60a43405-303b-466a-a02e-a7d4c837c99a",
   "metadata": {},
   "outputs": [
    {
     "data": {
      "text/plain": [
       "Price   -0.008409\n",
       "Age     -0.436587\n",
       "Hour     0.828723\n",
       "Name: Elif, dtype: float64"
      ]
     },
     "execution_count": 15,
     "metadata": {},
     "output_type": "execute_result"
    }
   ],
   "source": [
    "newDataFrame.iloc[1]"
   ]
  },
  {
   "cell_type": "markdown",
   "id": "87d99baa-7328-4181-94d9-2f1fc823ec0b",
   "metadata": {},
   "source": [
    "## Index"
   ]
  },
  {
   "cell_type": "code",
   "execution_count": 16,
   "id": "4a7864e4-a16a-402a-a112-d73678a62bfc",
   "metadata": {},
   "outputs": [],
   "source": [
    "newDataFrame[\"Total\"] = newDataFrame[\"Age\"] * newDataFrame[\"Hour\"] "
   ]
  },
  {
   "cell_type": "code",
   "execution_count": 17,
   "id": "73650e8e-39db-4022-bf47-b15adfdaf78a",
   "metadata": {},
   "outputs": [
    {
     "data": {
      "text/html": [
       "<div>\n",
       "<style scoped>\n",
       "    .dataframe tbody tr th:only-of-type {\n",
       "        vertical-align: middle;\n",
       "    }\n",
       "\n",
       "    .dataframe tbody tr th {\n",
       "        vertical-align: top;\n",
       "    }\n",
       "\n",
       "    .dataframe thead th {\n",
       "        text-align: right;\n",
       "    }\n",
       "</style>\n",
       "<table border=\"1\" class=\"dataframe\">\n",
       "  <thead>\n",
       "    <tr style=\"text-align: right;\">\n",
       "      <th></th>\n",
       "      <th>Price</th>\n",
       "      <th>Age</th>\n",
       "      <th>Hour</th>\n",
       "      <th>Total</th>\n",
       "    </tr>\n",
       "  </thead>\n",
       "  <tbody>\n",
       "    <tr>\n",
       "      <th>Mert</th>\n",
       "      <td>0.830153</td>\n",
       "      <td>0.412109</td>\n",
       "      <td>-1.009318</td>\n",
       "      <td>-0.415949</td>\n",
       "    </tr>\n",
       "    <tr>\n",
       "      <th>Elif</th>\n",
       "      <td>-0.008409</td>\n",
       "      <td>-0.436587</td>\n",
       "      <td>0.828723</td>\n",
       "      <td>-0.361809</td>\n",
       "    </tr>\n",
       "    <tr>\n",
       "      <th>Melek</th>\n",
       "      <td>-0.243110</td>\n",
       "      <td>-0.810624</td>\n",
       "      <td>0.827377</td>\n",
       "      <td>-0.670692</td>\n",
       "    </tr>\n",
       "    <tr>\n",
       "      <th>Mustafa</th>\n",
       "      <td>-0.090956</td>\n",
       "      <td>0.931968</td>\n",
       "      <td>-1.401984</td>\n",
       "      <td>-1.306605</td>\n",
       "    </tr>\n",
       "  </tbody>\n",
       "</table>\n",
       "</div>"
      ],
      "text/plain": [
       "            Price       Age      Hour     Total\n",
       "Mert     0.830153  0.412109 -1.009318 -0.415949\n",
       "Elif    -0.008409 -0.436587  0.828723 -0.361809\n",
       "Melek   -0.243110 -0.810624  0.827377 -0.670692\n",
       "Mustafa -0.090956  0.931968 -1.401984 -1.306605"
      ]
     },
     "execution_count": 17,
     "metadata": {},
     "output_type": "execute_result"
    }
   ],
   "source": [
    "newDataFrame"
   ]
  },
  {
   "cell_type": "code",
   "execution_count": 18,
   "id": "7f2f23be-4b08-4ef0-a0e9-b7ecc03c72c6",
   "metadata": {},
   "outputs": [
    {
     "data": {
      "text/html": [
       "<div>\n",
       "<style scoped>\n",
       "    .dataframe tbody tr th:only-of-type {\n",
       "        vertical-align: middle;\n",
       "    }\n",
       "\n",
       "    .dataframe tbody tr th {\n",
       "        vertical-align: top;\n",
       "    }\n",
       "\n",
       "    .dataframe thead th {\n",
       "        text-align: right;\n",
       "    }\n",
       "</style>\n",
       "<table border=\"1\" class=\"dataframe\">\n",
       "  <thead>\n",
       "    <tr style=\"text-align: right;\">\n",
       "      <th></th>\n",
       "      <th>Price</th>\n",
       "      <th>Age</th>\n",
       "      <th>Hour</th>\n",
       "    </tr>\n",
       "  </thead>\n",
       "  <tbody>\n",
       "    <tr>\n",
       "      <th>Mert</th>\n",
       "      <td>0.830153</td>\n",
       "      <td>0.412109</td>\n",
       "      <td>-1.009318</td>\n",
       "    </tr>\n",
       "    <tr>\n",
       "      <th>Elif</th>\n",
       "      <td>-0.008409</td>\n",
       "      <td>-0.436587</td>\n",
       "      <td>0.828723</td>\n",
       "    </tr>\n",
       "    <tr>\n",
       "      <th>Melek</th>\n",
       "      <td>-0.243110</td>\n",
       "      <td>-0.810624</td>\n",
       "      <td>0.827377</td>\n",
       "    </tr>\n",
       "    <tr>\n",
       "      <th>Mustafa</th>\n",
       "      <td>-0.090956</td>\n",
       "      <td>0.931968</td>\n",
       "      <td>-1.401984</td>\n",
       "    </tr>\n",
       "  </tbody>\n",
       "</table>\n",
       "</div>"
      ],
      "text/plain": [
       "            Price       Age      Hour\n",
       "Mert     0.830153  0.412109 -1.009318\n",
       "Elif    -0.008409 -0.436587  0.828723\n",
       "Melek   -0.243110 -0.810624  0.827377\n",
       "Mustafa -0.090956  0.931968 -1.401984"
      ]
     },
     "execution_count": 18,
     "metadata": {},
     "output_type": "execute_result"
    }
   ],
   "source": [
    "newDataFrame.drop(\"Total\", axis = 1)"
   ]
  },
  {
   "cell_type": "code",
   "execution_count": 19,
   "id": "7ff83725-d258-48e9-9515-ce33641f3908",
   "metadata": {},
   "outputs": [
    {
     "data": {
      "text/html": [
       "<div>\n",
       "<style scoped>\n",
       "    .dataframe tbody tr th:only-of-type {\n",
       "        vertical-align: middle;\n",
       "    }\n",
       "\n",
       "    .dataframe tbody tr th {\n",
       "        vertical-align: top;\n",
       "    }\n",
       "\n",
       "    .dataframe thead th {\n",
       "        text-align: right;\n",
       "    }\n",
       "</style>\n",
       "<table border=\"1\" class=\"dataframe\">\n",
       "  <thead>\n",
       "    <tr style=\"text-align: right;\">\n",
       "      <th></th>\n",
       "      <th>Price</th>\n",
       "      <th>Age</th>\n",
       "      <th>Hour</th>\n",
       "      <th>Total</th>\n",
       "    </tr>\n",
       "  </thead>\n",
       "  <tbody>\n",
       "    <tr>\n",
       "      <th>Mert</th>\n",
       "      <td>0.830153</td>\n",
       "      <td>0.412109</td>\n",
       "      <td>-1.009318</td>\n",
       "      <td>-0.415949</td>\n",
       "    </tr>\n",
       "    <tr>\n",
       "      <th>Elif</th>\n",
       "      <td>-0.008409</td>\n",
       "      <td>-0.436587</td>\n",
       "      <td>0.828723</td>\n",
       "      <td>-0.361809</td>\n",
       "    </tr>\n",
       "    <tr>\n",
       "      <th>Melek</th>\n",
       "      <td>-0.243110</td>\n",
       "      <td>-0.810624</td>\n",
       "      <td>0.827377</td>\n",
       "      <td>-0.670692</td>\n",
       "    </tr>\n",
       "  </tbody>\n",
       "</table>\n",
       "</div>"
      ],
      "text/plain": [
       "          Price       Age      Hour     Total\n",
       "Mert   0.830153  0.412109 -1.009318 -0.415949\n",
       "Elif  -0.008409 -0.436587  0.828723 -0.361809\n",
       "Melek -0.243110 -0.810624  0.827377 -0.670692"
      ]
     },
     "execution_count": 19,
     "metadata": {},
     "output_type": "execute_result"
    }
   ],
   "source": [
    "newDataFrame.drop(\"Mustafa\", axis = 0)"
   ]
  },
  {
   "cell_type": "code",
   "execution_count": 21,
   "id": "054f5e65-70c5-4254-b961-6e1edee54b89",
   "metadata": {},
   "outputs": [],
   "source": [
    "newDataFrame.drop(\"Total\", axis = 1, inplace = True)"
   ]
  },
  {
   "cell_type": "code",
   "execution_count": 22,
   "id": "7f4c87cf-05ee-4040-8658-9ef03d08976a",
   "metadata": {},
   "outputs": [
    {
     "data": {
      "text/html": [
       "<div>\n",
       "<style scoped>\n",
       "    .dataframe tbody tr th:only-of-type {\n",
       "        vertical-align: middle;\n",
       "    }\n",
       "\n",
       "    .dataframe tbody tr th {\n",
       "        vertical-align: top;\n",
       "    }\n",
       "\n",
       "    .dataframe thead th {\n",
       "        text-align: right;\n",
       "    }\n",
       "</style>\n",
       "<table border=\"1\" class=\"dataframe\">\n",
       "  <thead>\n",
       "    <tr style=\"text-align: right;\">\n",
       "      <th></th>\n",
       "      <th>Price</th>\n",
       "      <th>Age</th>\n",
       "      <th>Hour</th>\n",
       "    </tr>\n",
       "  </thead>\n",
       "  <tbody>\n",
       "    <tr>\n",
       "      <th>Mert</th>\n",
       "      <td>0.830153</td>\n",
       "      <td>0.412109</td>\n",
       "      <td>-1.009318</td>\n",
       "    </tr>\n",
       "    <tr>\n",
       "      <th>Elif</th>\n",
       "      <td>-0.008409</td>\n",
       "      <td>-0.436587</td>\n",
       "      <td>0.828723</td>\n",
       "    </tr>\n",
       "    <tr>\n",
       "      <th>Melek</th>\n",
       "      <td>-0.243110</td>\n",
       "      <td>-0.810624</td>\n",
       "      <td>0.827377</td>\n",
       "    </tr>\n",
       "    <tr>\n",
       "      <th>Mustafa</th>\n",
       "      <td>-0.090956</td>\n",
       "      <td>0.931968</td>\n",
       "      <td>-1.401984</td>\n",
       "    </tr>\n",
       "  </tbody>\n",
       "</table>\n",
       "</div>"
      ],
      "text/plain": [
       "            Price       Age      Hour\n",
       "Mert     0.830153  0.412109 -1.009318\n",
       "Elif    -0.008409 -0.436587  0.828723\n",
       "Melek   -0.243110 -0.810624  0.827377\n",
       "Mustafa -0.090956  0.931968 -1.401984"
      ]
     },
     "execution_count": 22,
     "metadata": {},
     "output_type": "execute_result"
    }
   ],
   "source": [
    "newDataFrame"
   ]
  },
  {
   "cell_type": "code",
   "execution_count": 24,
   "id": "8a68e6fd-d533-41e1-9cc0-5f8025411673",
   "metadata": {},
   "outputs": [
    {
     "data": {
      "text/plain": [
       "0.41210866398024415"
      ]
     },
     "execution_count": 24,
     "metadata": {},
     "output_type": "execute_result"
    }
   ],
   "source": [
    "newDataFrame.loc[\"Mert\"][\"Age\"]"
   ]
  },
  {
   "cell_type": "code",
   "execution_count": 25,
   "id": "131e5005-f7d1-4a7b-9d6b-87a99744c189",
   "metadata": {},
   "outputs": [
    {
     "data": {
      "text/plain": [
       "0.41210866398024415"
      ]
     },
     "execution_count": 25,
     "metadata": {},
     "output_type": "execute_result"
    }
   ],
   "source": [
    "newDataFrame.loc[\"Mert\",\"Age\"]"
   ]
  },
  {
   "cell_type": "code",
   "execution_count": 27,
   "id": "f0235c69-467a-4a80-a9d1-195393073c3f",
   "metadata": {},
   "outputs": [],
   "source": [
    "booleanFrame = newDataFrame < 0"
   ]
  },
  {
   "cell_type": "code",
   "execution_count": 28,
   "id": "857fc577-6656-4372-9709-5a7fe650781b",
   "metadata": {},
   "outputs": [
    {
     "data": {
      "text/html": [
       "<div>\n",
       "<style scoped>\n",
       "    .dataframe tbody tr th:only-of-type {\n",
       "        vertical-align: middle;\n",
       "    }\n",
       "\n",
       "    .dataframe tbody tr th {\n",
       "        vertical-align: top;\n",
       "    }\n",
       "\n",
       "    .dataframe thead th {\n",
       "        text-align: right;\n",
       "    }\n",
       "</style>\n",
       "<table border=\"1\" class=\"dataframe\">\n",
       "  <thead>\n",
       "    <tr style=\"text-align: right;\">\n",
       "      <th></th>\n",
       "      <th>Price</th>\n",
       "      <th>Age</th>\n",
       "      <th>Hour</th>\n",
       "    </tr>\n",
       "  </thead>\n",
       "  <tbody>\n",
       "    <tr>\n",
       "      <th>Mert</th>\n",
       "      <td>False</td>\n",
       "      <td>False</td>\n",
       "      <td>True</td>\n",
       "    </tr>\n",
       "    <tr>\n",
       "      <th>Elif</th>\n",
       "      <td>True</td>\n",
       "      <td>True</td>\n",
       "      <td>False</td>\n",
       "    </tr>\n",
       "    <tr>\n",
       "      <th>Melek</th>\n",
       "      <td>True</td>\n",
       "      <td>True</td>\n",
       "      <td>False</td>\n",
       "    </tr>\n",
       "    <tr>\n",
       "      <th>Mustafa</th>\n",
       "      <td>True</td>\n",
       "      <td>False</td>\n",
       "      <td>True</td>\n",
       "    </tr>\n",
       "  </tbody>\n",
       "</table>\n",
       "</div>"
      ],
      "text/plain": [
       "         Price    Age   Hour\n",
       "Mert     False  False   True\n",
       "Elif      True   True  False\n",
       "Melek     True   True  False\n",
       "Mustafa   True  False   True"
      ]
     },
     "execution_count": 28,
     "metadata": {},
     "output_type": "execute_result"
    }
   ],
   "source": [
    "booleanFrame"
   ]
  },
  {
   "cell_type": "code",
   "execution_count": 29,
   "id": "43c40ff6-a81b-45c2-888b-38e904458c42",
   "metadata": {},
   "outputs": [
    {
     "data": {
      "text/html": [
       "<div>\n",
       "<style scoped>\n",
       "    .dataframe tbody tr th:only-of-type {\n",
       "        vertical-align: middle;\n",
       "    }\n",
       "\n",
       "    .dataframe tbody tr th {\n",
       "        vertical-align: top;\n",
       "    }\n",
       "\n",
       "    .dataframe thead th {\n",
       "        text-align: right;\n",
       "    }\n",
       "</style>\n",
       "<table border=\"1\" class=\"dataframe\">\n",
       "  <thead>\n",
       "    <tr style=\"text-align: right;\">\n",
       "      <th></th>\n",
       "      <th>Price</th>\n",
       "      <th>Age</th>\n",
       "      <th>Hour</th>\n",
       "    </tr>\n",
       "  </thead>\n",
       "  <tbody>\n",
       "    <tr>\n",
       "      <th>Mert</th>\n",
       "      <td>NaN</td>\n",
       "      <td>NaN</td>\n",
       "      <td>-1.009318</td>\n",
       "    </tr>\n",
       "    <tr>\n",
       "      <th>Elif</th>\n",
       "      <td>-0.008409</td>\n",
       "      <td>-0.436587</td>\n",
       "      <td>NaN</td>\n",
       "    </tr>\n",
       "    <tr>\n",
       "      <th>Melek</th>\n",
       "      <td>-0.243110</td>\n",
       "      <td>-0.810624</td>\n",
       "      <td>NaN</td>\n",
       "    </tr>\n",
       "    <tr>\n",
       "      <th>Mustafa</th>\n",
       "      <td>-0.090956</td>\n",
       "      <td>NaN</td>\n",
       "      <td>-1.401984</td>\n",
       "    </tr>\n",
       "  </tbody>\n",
       "</table>\n",
       "</div>"
      ],
      "text/plain": [
       "            Price       Age      Hour\n",
       "Mert          NaN       NaN -1.009318\n",
       "Elif    -0.008409 -0.436587       NaN\n",
       "Melek   -0.243110 -0.810624       NaN\n",
       "Mustafa -0.090956       NaN -1.401984"
      ]
     },
     "execution_count": 29,
     "metadata": {},
     "output_type": "execute_result"
    }
   ],
   "source": [
    "newDataFrame[booleanFrame]"
   ]
  },
  {
   "cell_type": "code",
   "execution_count": 30,
   "id": "622b726d-b8f2-4f4e-a1f1-e0176dd990ad",
   "metadata": {},
   "outputs": [
    {
     "data": {
      "text/html": [
       "<div>\n",
       "<style scoped>\n",
       "    .dataframe tbody tr th:only-of-type {\n",
       "        vertical-align: middle;\n",
       "    }\n",
       "\n",
       "    .dataframe tbody tr th {\n",
       "        vertical-align: top;\n",
       "    }\n",
       "\n",
       "    .dataframe thead th {\n",
       "        text-align: right;\n",
       "    }\n",
       "</style>\n",
       "<table border=\"1\" class=\"dataframe\">\n",
       "  <thead>\n",
       "    <tr style=\"text-align: right;\">\n",
       "      <th></th>\n",
       "      <th>Price</th>\n",
       "      <th>Age</th>\n",
       "      <th>Hour</th>\n",
       "    </tr>\n",
       "  </thead>\n",
       "  <tbody>\n",
       "    <tr>\n",
       "      <th>Mert</th>\n",
       "      <td>NaN</td>\n",
       "      <td>NaN</td>\n",
       "      <td>-1.009318</td>\n",
       "    </tr>\n",
       "    <tr>\n",
       "      <th>Elif</th>\n",
       "      <td>-0.008409</td>\n",
       "      <td>-0.436587</td>\n",
       "      <td>NaN</td>\n",
       "    </tr>\n",
       "    <tr>\n",
       "      <th>Melek</th>\n",
       "      <td>-0.243110</td>\n",
       "      <td>-0.810624</td>\n",
       "      <td>NaN</td>\n",
       "    </tr>\n",
       "    <tr>\n",
       "      <th>Mustafa</th>\n",
       "      <td>-0.090956</td>\n",
       "      <td>NaN</td>\n",
       "      <td>-1.401984</td>\n",
       "    </tr>\n",
       "  </tbody>\n",
       "</table>\n",
       "</div>"
      ],
      "text/plain": [
       "            Price       Age      Hour\n",
       "Mert          NaN       NaN -1.009318\n",
       "Elif    -0.008409 -0.436587       NaN\n",
       "Melek   -0.243110 -0.810624       NaN\n",
       "Mustafa -0.090956       NaN -1.401984"
      ]
     },
     "execution_count": 30,
     "metadata": {},
     "output_type": "execute_result"
    }
   ],
   "source": [
    "newDataFrame[newDataFrame < 0]"
   ]
  },
  {
   "cell_type": "code",
   "execution_count": 32,
   "id": "bab64afa-08c3-48c0-b786-90a3cb5c3b48",
   "metadata": {},
   "outputs": [
    {
     "data": {
      "text/html": [
       "<div>\n",
       "<style scoped>\n",
       "    .dataframe tbody tr th:only-of-type {\n",
       "        vertical-align: middle;\n",
       "    }\n",
       "\n",
       "    .dataframe tbody tr th {\n",
       "        vertical-align: top;\n",
       "    }\n",
       "\n",
       "    .dataframe thead th {\n",
       "        text-align: right;\n",
       "    }\n",
       "</style>\n",
       "<table border=\"1\" class=\"dataframe\">\n",
       "  <thead>\n",
       "    <tr style=\"text-align: right;\">\n",
       "      <th></th>\n",
       "      <th>Price</th>\n",
       "      <th>Age</th>\n",
       "      <th>Hour</th>\n",
       "    </tr>\n",
       "  </thead>\n",
       "  <tbody>\n",
       "    <tr>\n",
       "      <th>Mert</th>\n",
       "      <td>0.830153</td>\n",
       "      <td>0.412109</td>\n",
       "      <td>-1.009318</td>\n",
       "    </tr>\n",
       "    <tr>\n",
       "      <th>Mustafa</th>\n",
       "      <td>-0.090956</td>\n",
       "      <td>0.931968</td>\n",
       "      <td>-1.401984</td>\n",
       "    </tr>\n",
       "  </tbody>\n",
       "</table>\n",
       "</div>"
      ],
      "text/plain": [
       "            Price       Age      Hour\n",
       "Mert     0.830153  0.412109 -1.009318\n",
       "Mustafa -0.090956  0.931968 -1.401984"
      ]
     },
     "execution_count": 32,
     "metadata": {},
     "output_type": "execute_result"
    }
   ],
   "source": [
    "newDataFrame[newDataFrame[\"Age\"] > 0]"
   ]
  },
  {
   "cell_type": "code",
   "execution_count": null,
   "id": "f065f411-e753-4481-87c9-9b22ce092a67",
   "metadata": {},
   "outputs": [],
   "source": []
  }
 ],
 "metadata": {
  "kernelspec": {
   "display_name": "Python 3 (ipykernel)",
   "language": "python",
   "name": "python3"
  },
  "language_info": {
   "codemirror_mode": {
    "name": "ipython",
    "version": 3
   },
   "file_extension": ".py",
   "mimetype": "text/x-python",
   "name": "python",
   "nbconvert_exporter": "python",
   "pygments_lexer": "ipython3",
   "version": "3.11.7"
  }
 },
 "nbformat": 4,
 "nbformat_minor": 5
}
